{
 "cells": [
  {
   "cell_type": "markdown",
   "metadata": {
    "nbpresent": {
     "id": "cbfe4217-ff2e-49a4-abee-c25d8132ff12"
    },
    "slideshow": {
     "slide_type": "slide"
    }
   },
   "source": [
    "# Programación estadística con Python - II\n",
    "----"
   ]
  },
  {
   "cell_type": "markdown",
   "metadata": {
    "nbpresent": {
     "id": "ec48866a-664a-4ab4-9a15-8b156e02391f"
    },
    "slideshow": {
     "slide_type": "slide"
    }
   },
   "source": [
    "## Agenda\n",
    "\n",
    "1. Nuestro pensum de Ciencia de Datos con Python  \n",
    "<br>\n",
    "2. Recapitulando el ejercicio anterior  \n",
    "<br>\n",
    "3. Comparando variables \n",
    "\n",
    "  + 3.1 Distribución acumulada y percentiles\n",
    "  + 3.2 Valores extremos y diagramas de caja (*boxplots*)\n",
    "  + 3.3 Diagramas de dispersión (*scatterplots*)\n",
    "  + 3.4 Covarianza y correlación  \n",
    "<br>\n",
    "4. Introducción a la inferencia estadística  \n",
    "\n",
    "  + 4.1 ¿Qué y por qué? Ejemplo con muestreo repetido (*resampling*)\n",
    "  + 4.2 Generación de números pseudo-aleatorios\n",
    "  + 4.3 Variables discretas y continuas\n",
    "  + 4.4 ¿Qué historias cuentan algunas distribuciones de probabilidad?\n",
    "  + 4.5 Estimación de parámetros: ¿cómo distinguir un buen modelo según los datos?\n",
    "  + 4.6 Introducción a la regresión lineal con mínimos cuadrados\n",
    "  + 4.7 Importancia de EDA antes del ajuste del modelo\n",
    "  + 4.8 Mis primeros pasos con *Bootstrapping*"
   ]
  },
  {
   "cell_type": "markdown",
   "metadata": {
    "slideshow": {
     "slide_type": "slide"
    }
   },
   "source": [
    "## Nuestro *\"pensum\"* de Ciencia de Datos con Python\n",
    "[Nuestra Comunidad](https://www.meetup.com/Comunidad-de-Analitica-en-Santo-Domingo-R-Python/)  \n",
    "<br>\n",
    "[Votación: Temas de Interés en Ciencia de Datos con Python](https://www.meetup.com/Comunidad-de-Analitica-en-Santo-Domingo-R-Python/polls/1252269/)  \n",
    "<br>"
   ]
  },
  {
   "cell_type": "markdown",
   "metadata": {
    "nbpresent": {
     "id": "ec48866a-664a-4ab4-9a15-8b156e02391f"
    },
    "slideshow": {
     "slide_type": "slide"
    }
   },
   "source": [
    "## Recapitulando el ejercicio anterior\n",
    "\n",
    "[Notebook en Github](https://nbviewer.jupyter.org/github/pyrdr/charlas/blob/master/intro_eda_python/intro_pypandas.ipynb)"
   ]
  },
  {
   "cell_type": "code",
   "execution_count": 2,
   "metadata": {
    "nbpresent": {
     "id": "58d77adf-b2fd-4109-8341-e1fc4b47498e"
    },
    "slideshow": {
     "slide_type": "fragment"
    }
   },
   "outputs": [
    {
     "data": {
      "text/plain": [
       "count         5416\n",
       "unique         269\n",
       "top       conserje\n",
       "freq           289\n",
       "Name: puesto_clean, dtype: object"
      ]
     },
     "execution_count": 2,
     "metadata": {},
     "output_type": "execute_result"
    }
   ],
   "source": [
    "import pandas as pd\n",
    "\n",
    "df = pd.read_csv('cs_DGII_Nomina_2016.csv', sep=';', encoding = \"ISO-8859-1\")\n",
    "\n",
    "df.columns = [x.strip().lower() for x in df.columns.values]\n",
    "\n",
    "limpiar_salario = lambda x: pd.to_numeric(x.replace(',','').strip(), errors='coerce')\n",
    "df.salario = df.salario.apply(limpiar_salario)\n",
    "\n",
    "from unidecode import unidecode\n",
    "import re\n",
    "\n",
    "def limpiar_puesto(pstr):\n",
    "    pstr = unidecode(pstr).strip().lower()\n",
    "    pstr = re.sub('\\(.*?\\)','', pstr)\n",
    "    pstr = pstr.translate({ord('.'): None, ord(','): None})\n",
    "    return pstr\n",
    "\n",
    "df['puesto_clean'] = df.puesto.apply(limpiar_puesto)\n",
    "df.puesto_clean.describe()"
   ]
  },
  {
   "cell_type": "markdown",
   "metadata": {
    "nbpresent": {
     "id": "7c9f8ac5-994d-4e2d-9904-80ba1eae4000"
    },
    "slideshow": {
     "slide_type": "slide"
    }
   },
   "source": [
    "## Introducción a la Inferencia Estadística\n",
    "\n",
    "* ¿Qué y por qué? Ejemplo con muestreo repetido (*resampling*)"
   ]
  },
  {
   "cell_type": "markdown",
   "metadata": {
    "collapsed": true,
    "nbpresent": {
     "id": "6bf1afcf-da22-401e-9d38-06c8901f45c3"
    },
    "slideshow": {
     "slide_type": "fragment"
    }
   },
   "source": [
    "## Nómina de la DGII en el 2016\n",
    "\n",
    "[Introducción al Análisis Exploratorio de Datos (EDA) con Python](https://github.com/pyrdr/charlas/tree/master/intro_eda_python)\n",
    "\n",
    "### Pregunta: Según la nómina de la DGII en el 2016, ¿en promedio las mujeres ganan igual que los hombres?"
   ]
  },
  {
   "cell_type": "code",
   "execution_count": 4,
   "metadata": {
    "slideshow": {
     "slide_type": "fragment"
    }
   },
   "outputs": [
    {
     "name": "stdout",
     "output_type": "stream",
     "text": [
      "1451\n",
      "En 22 de 35 puestos el salario promedio de las mujeres es mayor que el de los hombres\n"
     ]
    }
   ],
   "source": [
    "df.groupby(by=['mes','genero']).salario.describe()\n",
    "ene = df[df.mes == 'ene-16']\n",
    "feb = df[df.mes == 'feb-16']\n",
    "feb_por_gen = feb.groupby(by='genero')\n",
    "total_empleados = feb.salario.count()\n",
    "feb_por_gen.salario.count().apply(lambda x: x/total_empleados)\n",
    "\n",
    "feb[feb.salario > 250000][['puesto_clean','salario','genero']]\n",
    "\n",
    "total_nomina = feb.salario.sum()\n",
    "feb_por_gen.salario.sum().apply(lambda x: x/total_nomina)\n",
    "\n",
    "import seaborn as sns\n",
    "sns.countplot(x='genero',data=feb)\n",
    "\n",
    "feb_por_gen.salario.sum().apply(lambda x: x/total_nomina).plot(kind='bar')\n",
    "\n",
    "sns.FacetGrid(data=feb, col='genero', size=8).map(sns.distplot,'salario', kde=False)\n",
    "\n",
    "sns.factorplot(data=feb, x='genero',y='salario',hue='genero', kind='box',size=6)\n",
    "\n",
    "import numpy as np\n",
    "sns.distplot(np.random.normal(feb.salario.mean(),feb.salario.std(),feb.shape[0]))\n",
    "\n",
    "feb_por_gen.salario.mean()\n",
    "\n",
    "salario_promedio_f, salario_promedio_m = feb_por_gen.salario.mean()[['F','M']]\n",
    "salario_promedio_f - salario_promedio_m\n",
    "\n",
    "salario_promedio_f/salario_promedio_m\n",
    "\n",
    "(salario_promedio_f/salario_promedio_m - 1)*100\n",
    "\n",
    "bottom25 = feb[feb.salario <= feb.salario.quantile(.25)]\n",
    "bottom25_by_gender = bottom25.groupby(by='genero')\n",
    "bottom25_by_gender.salario.describe()\n",
    "\n",
    "bottom25_by_gender.salario.mean()['F'] - bottom25_by_gender.salario.mean()['M']\n",
    "\n",
    "(bottom25_by_gender.salario.mean()['F']/bottom25_by_gender.salario.mean()['M'] - 1) * 100\n",
    "\n",
    "sns.factorplot(data=bottom25, x='genero',y='salario',hue='genero', kind='box',size=8)\n",
    "\n",
    "top25 = feb[feb.salario >= feb.salario.quantile(.75)]\n",
    "top25_by_gender = top25.groupby(by='genero')\n",
    "top25_by_gender.salario.describe()\n",
    "\n",
    "top25_by_gender.salario.mean()['F'] - top25_by_gender.salario.mean()['M']\n",
    "\n",
    "(top25_by_gender.salario.mean()['F']/top25_by_gender.salario.mean()['M'] - 1) * 100\n",
    "\n",
    "sns.factorplot(data=top25, x='genero',y='salario',hue='genero', kind='box',size=6)\n",
    "\n",
    "trunc_top25 = feb[(feb.salario >= feb.salario.quantile(.75)) & (feb.salario < feb.salario.max())]\n",
    "trunc_top25_by_gender = trunc_top25.groupby(by='genero')\n",
    "trunc_top25_by_gender.salario.describe()\n",
    "\n",
    "trunc_top25_by_gender.salario.mean()['F'] - trunc_top25_by_gender.salario.mean()['M']\n",
    "\n",
    "(trunc_top25_by_gender.salario.mean()['F']/trunc_top25_by_gender.salario.mean()['M'] - 1) * 100\n",
    "\n",
    "sns.factorplot(data=trunc_top25, x='genero',y='salario',hue='genero', kind='box',size=6)\n",
    "\n",
    "pd.set_option('mode.chained_assignment',None) # incantacion arcana que podemos ignorar por ahora\n",
    "feb['salario_bin'] = pd.qcut(feb.salario,10,precision=0)\n",
    "# guardemos esto para graficarlo mas abajo\n",
    "epg_mean = pd.pivot_table(data=feb,index=['salario_bin'],columns=['genero'],values='salario',aggfunc=np.mean)\n",
    "epg_mean\n",
    "\n",
    "from matplotlib import pyplot as plt\n",
    "# Pandas nos genera el grafico inicial\n",
    "ax = epg_mean.plot(grid=True,figsize=(10,8))\n",
    "# Pero con matplotlib modificamos los nombres, las unidades y marcas de los ejes\n",
    "ax.set_xlabel('Deciles de Salario')\n",
    "ax.set_ylabel('Salario Promedio')\n",
    "ticks = ax.set_xticklabels(ax.get_xticklabels(),rotation=45)\n",
    "# Finalmente agregemos el promedio general como linea punteada para referencia\n",
    "plt.axhline(feb.salario.mean(),linestyle='dashed')\n",
    "\n",
    "spg = feb.groupby(by=['puesto_clean']).filter(\\\n",
    "                                              lambda x: \\\n",
    "                                              len(x) > 19 and \\\n",
    "                                                  len(x[x.genero == 'F']) > 0 and \\\n",
    "                                                  len(x[x.genero == 'M']) > 0)\n",
    "print(spg.shape[0])\n",
    "\n",
    "spg.groupby(by='genero').salario.describe()\n",
    "\n",
    "sns.factorplot(data=spg, x='genero',y='salario',hue='genero', kind='box',size=6)\n",
    "\n",
    "spg_mean_pivot = pd.pivot_table(data=spg,values='salario',index=['puesto_clean'],columns=['genero'],aggfunc=np.mean)\n",
    "spg_mean_pivot.sort_values('F',inplace=True)\n",
    "spg_mean_pivot.head(10)\n",
    "\n",
    "spg_mean_pivot.plot(kind='barh',figsize=(10,15))\n",
    "\n",
    "spg_diff_pivot = spg_mean_pivot.apply(lambda x: x - x['M'], axis = 1)\n",
    "spg_diff_pivot.sort_values('F',inplace=True)\n",
    "spg_diff_pivot['F'].plot(kind='barh',figsize=(10,15))\n",
    "\n",
    "spg_rel_pivot = spg_mean_pivot.apply(lambda x: (x/x['M'] - 1) * 100, axis=1)\n",
    "spg_rel_pivot['mas'] = spg_diff_pivot.F.map(lambda x: x > 0)\n",
    "spg_rel_pivot.sort_values('F',inplace=True)\n",
    "f = plt.figure(figsize=(12,12))\n",
    "ax = sns.barplot(data=spg_rel_pivot,y=spg_rel_pivot.index,x='F',hue='mas',orient='h')\n",
    "ax.set_xlabel('% diferencia promedio')\n",
    "\n",
    "print(\"En {:d} de {:d} puestos el salario promedio de las mujeres es mayor que el de los hombres\".format(spg_rel_pivot.mas.sum(), spg_rel_pivot.shape[0]))"
   ]
  },
  {
   "cell_type": "markdown",
   "metadata": {
    "slideshow": {
     "slide_type": "slide"
    }
   },
   "source": [
    "\n",
    "Hasta ahora todo lo que hemos hecho es puramente descriptivo, pero no conclusivo. Pero, ¿podemos inferir algo en términos más rigurosos? ¿Podemos generar una conclusión válida y confiable en términos estadísticos a partir de los datos disponibles?\n",
    "\n",
    "**_No_** podemos inferir nada concreto en términos generales sobre la \"brecha salarial de género\" ya que los datos que tenemos son solo de dos meses en _una_ institución. \n",
    "\n",
    "**_Si_** podemos inferir sobre los salarios y la \"brecha\" en esta institución, al menos hasta el momento donde tenemos datos (Ene-Feb 2016).\n",
    "\n",
    "**_¿Cómo?_**\n",
    "\n"
   ]
  },
  {
   "cell_type": "markdown",
   "metadata": {
    "slideshow": {
     "slide_type": "slide"
    }
   },
   "source": [
    "![Consistencia y Validez](reliability_and_validity.png)"
   ]
  },
  {
   "cell_type": "code",
   "execution_count": null,
   "metadata": {},
   "outputs": [],
   "source": []
  }
 ],
 "metadata": {
  "anaconda-cloud": {},
  "celltoolbar": "Slideshow",
  "kernelspec": {
   "display_name": "Python 3",
   "language": "python",
   "name": "python3"
  },
  "language_info": {
   "codemirror_mode": {
    "name": "ipython",
    "version": 3
   },
   "file_extension": ".py",
   "mimetype": "text/x-python",
   "name": "python",
   "nbconvert_exporter": "python",
   "pygments_lexer": "ipython3",
   "version": "3.6.3"
  },
  "nbpresent": {
   "slides": {
    "12dcd424-d0d5-4aa4-8699-2a59b420c8a5": {
     "id": "12dcd424-d0d5-4aa4-8699-2a59b420c8a5",
     "prev": null,
     "regions": {}
    },
    "776fa879-f08b-43c4-a213-ebd3ec6f7f02": {
     "id": "776fa879-f08b-43c4-a213-ebd3ec6f7f02",
     "prev": "f1075281-87ea-4317-ae6a-a88f1cbd2d50",
     "regions": {
      "72a742b3-2250-4c11-944f-8b7888c735b5": {
       "attrs": {
        "height": 0.8080671764882291,
        "width": 0.7651821862348178,
        "x": 0.1126855600539811,
        "y": 0.1007647323436797
       },
       "content": {
        "cell": "ec48866a-664a-4ab4-9a15-8b156e02391f",
        "part": "whole"
       },
       "id": "72a742b3-2250-4c11-944f-8b7888c735b5"
      }
     }
    },
    "af85153e-70ef-4ad4-b1ee-ca3c93bc5b34": {
     "id": "af85153e-70ef-4ad4-b1ee-ca3c93bc5b34",
     "layout": "grid",
     "prev": "c45dd279-1b17-475d-a07b-6a35201b71e1",
     "regions": {
      "78984b4d-4ed4-4fab-bf49-09658b7ae861": {
       "attrs": {
        "height": 1,
        "pad": 0.01,
        "width": 1,
        "x": 0,
        "y": 0
       },
       "content": {
        "cell": "6bf1afcf-da22-401e-9d38-06c8901f45c3",
        "part": "source"
       },
       "id": "78984b4d-4ed4-4fab-bf49-09658b7ae861"
      }
     }
    },
    "c45dd279-1b17-475d-a07b-6a35201b71e1": {
     "id": "c45dd279-1b17-475d-a07b-6a35201b71e1",
     "layout": "grid",
     "prev": "f2b6caeb-6ab9-4919-9297-b355c8e06b81",
     "regions": {
      "026e296b-bde0-4f6d-b662-408bdc3ab909": {
       "attrs": {
        "height": 0.25,
        "pad": 0.01,
        "treemap:weight": 1,
        "width": 0.6666666666666666,
        "x": 0,
        "y": 0.75
       },
       "content": {
        "cell": "d458d46b-ebd1-4a87-a7bd-64bc1ceaca83",
        "part": "whole"
       },
       "id": "026e296b-bde0-4f6d-b662-408bdc3ab909"
      },
      "1e546750-5c99-4ad1-9477-c7f7dca1e774": {
       "attrs": {
        "height": 0.5,
        "pad": 0.01,
        "treemap:weight": 1,
        "width": 0.3333333333333333,
        "x": 0.6666666666666666,
        "y": 0.5
       },
       "content": {
        "cell": "6bf1afcf-da22-401e-9d38-06c8901f45c3",
        "part": "whole"
       },
       "id": "1e546750-5c99-4ad1-9477-c7f7dca1e774"
      },
      "6aebcb96-47e4-40da-9787-2942d0e02a1d": {
       "attrs": {
        "height": 0.5,
        "pad": 0.01,
        "treemap:weight": 1,
        "width": 0.3333333333333333,
        "x": 0.3333333333333333,
        "y": 0
       },
       "id": "6aebcb96-47e4-40da-9787-2942d0e02a1d"
      },
      "80afb31a-9678-488b-97a6-cf2088cb5919": {
       "attrs": {
        "height": 0.5,
        "pad": 0.01,
        "treemap:weight": 1,
        "width": 0.3333333333333333,
        "x": 0,
        "y": 0
       },
       "id": "80afb31a-9678-488b-97a6-cf2088cb5919"
      },
      "89a985ad-65d3-410f-a4f8-5faee2301c2c": {
       "attrs": {
        "height": 0.25,
        "pad": 0.01,
        "treemap:weight": 1,
        "width": 0.6666666666666666,
        "x": 0,
        "y": 0.5
       },
       "content": {
        "cell": "fe34fe33-d5bb-4c48-9cdc-825d5df74930",
        "part": "whole"
       },
       "id": "89a985ad-65d3-410f-a4f8-5faee2301c2c"
      },
      "8c554c9f-d757-4211-8344-55f4890cba6f": {
       "attrs": {
        "height": 0.5,
        "pad": 0.01,
        "treemap:weight": 1,
        "width": 0.3333333333333333,
        "x": 0.6666666666666666,
        "y": 0
       },
       "content": {
        "cell": "58d77adf-b2fd-4109-8341-e1fc4b47498e",
        "part": "whole"
       },
       "id": "8c554c9f-d757-4211-8344-55f4890cba6f"
      }
     },
     "theme": null
    },
    "dccb9d59-ac61-4f1a-beea-487cc56212a0": {
     "id": "dccb9d59-ac61-4f1a-beea-487cc56212a0",
     "layout": "grid",
     "prev": "776fa879-f08b-43c4-a213-ebd3ec6f7f02",
     "regions": {
      "8eaf3ca1-351a-4639-80f4-67e43de40dca": {
       "attrs": {
        "height": 0.5833333333333334,
        "pad": 0.01,
        "treemap:weight": 1,
        "width": 0.75,
        "x": 0.08333333333333333,
        "y": 0.16666666666666666
       },
       "content": {
        "cell": "7c9f8ac5-994d-4e2d-9904-80ba1eae4000",
        "part": "whole"
       },
       "id": "8eaf3ca1-351a-4639-80f4-67e43de40dca"
      }
     }
    },
    "f1075281-87ea-4317-ae6a-a88f1cbd2d50": {
     "id": "f1075281-87ea-4317-ae6a-a88f1cbd2d50",
     "prev": "12dcd424-d0d5-4aa4-8699-2a59b420c8a5",
     "regions": {
      "095d452b-7b31-4faf-8af1-2cf44e83c4ee": {
       "attrs": {
        "height": 0.1702204228520019,
        "width": 0.682591093117409,
        "x": 0.10809716599190286,
        "y": 0.40589293747188476
       },
       "content": {
        "cell": "cbfe4217-ff2e-49a4-abee-c25d8132ff12",
        "part": "whole"
       },
       "id": "095d452b-7b31-4faf-8af1-2cf44e83c4ee"
      }
     }
    },
    "f2b6caeb-6ab9-4919-9297-b355c8e06b81": {
     "id": "f2b6caeb-6ab9-4919-9297-b355c8e06b81",
     "prev": "dccb9d59-ac61-4f1a-beea-487cc56212a0",
     "regions": {
      "e8156d1c-fb1b-4d7a-a360-489b2e01e6fb": {
       "attrs": {
        "height": 0.7636827110511321,
        "width": 0.8043184885290149,
        "x": 0.09986504723346828,
        "y": 0.10916179337231968
       },
       "content": {
        "cell": "428ef7e8-85a7-470d-941d-ff317e2ea35e",
        "part": "whole"
       },
       "id": "e8156d1c-fb1b-4d7a-a360-489b2e01e6fb"
      }
     }
    }
   },
   "themes": {
    "default": "28dc3acb-fe3b-4d51-b197-5bc8e6e05cf3",
    "theme": {}
   }
  }
 },
 "nbformat": 4,
 "nbformat_minor": 1
}
