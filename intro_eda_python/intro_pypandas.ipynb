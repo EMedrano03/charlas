{
 "cells": [
  {
   "cell_type": "markdown",
   "metadata": {
    "nbpresent": {
     "id": "cbfe4217-ff2e-49a4-abee-c25d8132ff12"
    },
    "slideshow": {
     "slide_type": "slide"
    }
   },
   "source": [
    "# Introducción a la programación estadística <br/> con Python y Pandas (...)\n",
    "----"
   ]
  },
  {
   "cell_type": "markdown",
   "metadata": {
    "nbpresent": {
     "id": "ec48866a-664a-4ab4-9a15-8b156e02391f"
    },
    "slideshow": {
     "slide_type": "slide"
    }
   },
   "source": [
    "## Herramientas que usaremos\n",
    "\n",
    "* [Python](https://www.python.org/downloads/)\n",
    "\n",
    "* [Pandas](http://pandas.pydata.org/)\n",
    "    Libreria que provee simples pero poderosas estructuras y herramientas para el analisis de datos\n",
    "* [Jupyter Notebook](http://jupyter.org/)\n",
    "    Ambiente web para la creacion de documentos interactivos con elementos de programacion y datos (Python es solo uno de los multiples lenguajes que soporta)\n",
    "* [NumPy](http://www.numpy.org/)\n",
    "    Libreria base que provee estructuras de datos optimizadas (fast! fast! fast!) para el analisis (arreglo multidimensional: Ndarray)\n",
    "* matplotlib\n",
    "    Libreria base de visualización\n",
    "* [Seaborn](https://stanford.edu/~mwaskom/software/seaborn/)\n",
    "    Libreria para visualizacion estadistica, construida sobre matplotlib para ser mucho mas facil de usar y amigable\n",
    "* todo lo anterior se consigue con solo instalar [Anaconda](https://www.continuum.io/downloads) (_la_ distribución de Python más popular)\n",
    "* dos o tres cositas mas..."
   ]
  },
  {
   "cell_type": "markdown",
   "metadata": {
    "nbpresent": {
     "id": "7c9f8ac5-994d-4e2d-9904-80ba1eae4000"
    },
    "slideshow": {
     "slide_type": "slide"
    }
   },
   "source": [
    "## Cosas que no veremos\n",
    "\n",
    "* la historia de Python\n",
    "* ni las razones para usarlo\n",
    "* tampoco veremos el millon de cosas que se pueden hacer con Python y su ecosistema\n",
    "* detalles tecnicos como instalacion/configuracion, \n",
    "* conceptos de programacion/implementación \"avanzados\" (_les pasaremos por arribita si es necesario_)"
   ]
  },
  {
   "cell_type": "markdown",
   "metadata": {
    "nbpresent": {
     "id": "428ef7e8-85a7-470d-941d-ff317e2ea35e"
    },
    "slideshow": {
     "slide_type": "slide"
    }
   },
   "source": [
    "# Que si veremos?\n",
    "\n",
    "Pues cómo:\n",
    "\n",
    "* importar datos de un archivo (csv)\n",
    "* ver la estructura básica de los datos\n",
    "* realizar un minímo de limpieza y orden:\n",
    "    * Transformar campos\n",
    "    * Agregar nuevos campos\n",
    "* acceder al contenido de:\n",
    "    * columnas especificas\n",
    "    * registros especificos\n",
    "* calcular estadisticas descriptivas\n",
    "    * Rango, media, desviación estandar\n",
    "    * Cuantiles\n",
    "    * resumen de 7 números\n",
    "* explorar subdivisiones de los datos\n",
    "    * group by\n",
    "    * split-apply-combine\n",
    "* generar algunos graficos\n",
    "    * Histograma\n",
    "    * Diagrama de caja\n",
    "\n",
    "...y uno que otro extra, _si da tiempo..._\n"
   ]
  },
  {
   "cell_type": "markdown",
   "metadata": {
    "nbpresent": {
     "id": "d458d46b-ebd1-4a87-a7bd-64bc1ceaca83"
    },
    "slideshow": {
     "slide_type": "slide"
    }
   },
   "source": [
    "## Pero con cuáles datos?\n",
    "\n",
    "Un archivo de la Nómina Mensual de la DGII en Febrero y Enero 2016 que yo tome del repositorio de datos abiertos del gobierno de Republica Dominicana (http://datos.gob.do/dataset/nomina-de-empleados-dgii-2016) hace ya más de un año....\n",
    "\n",
    "#### Y que al parecer ya no está disponible en el portal datos.gob.do ni en la página de la DGII"
   ]
  },
  {
   "cell_type": "markdown",
   "metadata": {
    "slideshow": {
     "slide_type": "slide"
    }
   },
   "source": [
    "### Importemos la libreria pandas con el alias pd (por convencion)"
   ]
  },
  {
   "cell_type": "code",
   "execution_count": 1,
   "metadata": {
    "collapsed": true,
    "nbpresent": {
     "id": "6bf1afcf-da22-401e-9d38-06c8901f45c3"
    },
    "slideshow": {
     "slide_type": "fragment"
    }
   },
   "outputs": [],
   "source": [
    "import pandas as pd"
   ]
  },
  {
   "cell_type": "markdown",
   "metadata": {
    "nbpresent": {
     "id": "fe34fe33-d5bb-4c48-9cdc-825d5df74930"
    },
    "slideshow": {
     "slide_type": "slide"
    }
   },
   "source": [
    "### Cargamos el archivo a un [DataFrame](http://pandas.pydata.org/pandas-docs/stable/dsintro.html) en memoria\n",
    "\n",
    "El archivo es separado por ';'.\n",
    "\n",
    "Asi como read_csv, existen funciones para leer:\n",
    "* excel\n",
    "* SAS\n",
    "* STATA\n",
    "* archivos de longitud fija\n",
    "* JSON, entre otros..."
   ]
  },
  {
   "cell_type": "code",
   "execution_count": 2,
   "metadata": {
    "nbpresent": {
     "id": "58d77adf-b2fd-4109-8341-e1fc4b47498e"
    },
    "slideshow": {
     "slide_type": "fragment"
    }
   },
   "outputs": [],
   "source": [
    "# DataFrame cariñosamente df\n",
    "df = pd.read_csv('cs_DGII_Nomina_2016.csv',sep=';', encoding=\"ISO-8859-1\") # encoding???"
   ]
  },
  {
   "cell_type": "markdown",
   "metadata": {
    "slideshow": {
     "slide_type": "slide"
    }
   },
   "source": [
    "### Demos un vistazo a los primeros 5 registros"
   ]
  },
  {
   "cell_type": "code",
   "execution_count": 3,
   "metadata": {
    "slideshow": {
     "slide_type": "fragment"
    }
   },
   "outputs": [
    {
     "data": {
      "text/html": [
       "<div>\n",
       "<style>\n",
       "    .dataframe thead tr:only-child th {\n",
       "        text-align: right;\n",
       "    }\n",
       "\n",
       "    .dataframe thead th {\n",
       "        text-align: left;\n",
       "    }\n",
       "\n",
       "    .dataframe tbody tr th {\n",
       "        vertical-align: top;\n",
       "    }\n",
       "</style>\n",
       "<table border=\"1\" class=\"dataframe\">\n",
       "  <thead>\n",
       "    <tr style=\"text-align: right;\">\n",
       "      <th></th>\n",
       "      <th>Empleado</th>\n",
       "      <th>Salario</th>\n",
       "      <th>Mes</th>\n",
       "      <th>Puesto</th>\n",
       "      <th>Genero</th>\n",
       "    </tr>\n",
       "  </thead>\n",
       "  <tbody>\n",
       "    <tr>\n",
       "      <th>0</th>\n",
       "      <td>JOANNY DEL CARMEN ACEVEDO MEDINA</td>\n",
       "      <td>50,277.00</td>\n",
       "      <td>feb-16</td>\n",
       "      <td>Comprador(a)</td>\n",
       "      <td>F</td>\n",
       "    </tr>\n",
       "    <tr>\n",
       "      <th>1</th>\n",
       "      <td>JOANNY DEL CARMEN ACEVEDO MEDINA</td>\n",
       "      <td>50,277.00</td>\n",
       "      <td>ene-16</td>\n",
       "      <td>Comprador(a)</td>\n",
       "      <td>F</td>\n",
       "    </tr>\n",
       "    <tr>\n",
       "      <th>2</th>\n",
       "      <td>EFRAIN EVANGELISTA DIAZ</td>\n",
       "      <td>63,500.00</td>\n",
       "      <td>feb-16</td>\n",
       "      <td>Coordinador(a) Compras</td>\n",
       "      <td>M</td>\n",
       "    </tr>\n",
       "    <tr>\n",
       "      <th>3</th>\n",
       "      <td>EFRAIN EVANGELISTA DIAZ</td>\n",
       "      <td>63,500.00</td>\n",
       "      <td>ene-16</td>\n",
       "      <td>Coordinador(a) Compras</td>\n",
       "      <td>M</td>\n",
       "    </tr>\n",
       "    <tr>\n",
       "      <th>4</th>\n",
       "      <td>JOHANNY DEL CARMEN RAMIREZ ROBLES</td>\n",
       "      <td>50,277.00</td>\n",
       "      <td>feb-16</td>\n",
       "      <td>Comprador(a)</td>\n",
       "      <td>F</td>\n",
       "    </tr>\n",
       "  </tbody>\n",
       "</table>\n",
       "</div>"
      ],
      "text/plain": [
       "                            Empleado     Salario      Mes  \\\n",
       "0   JOANNY DEL CARMEN ACEVEDO MEDINA   50,277.00   feb-16   \n",
       "1   JOANNY DEL CARMEN ACEVEDO MEDINA   50,277.00   ene-16   \n",
       "2            EFRAIN EVANGELISTA DIAZ   63,500.00   feb-16   \n",
       "3            EFRAIN EVANGELISTA DIAZ   63,500.00   ene-16   \n",
       "4  JOHANNY DEL CARMEN RAMIREZ ROBLES   50,277.00   feb-16   \n",
       "\n",
       "                   Puesto Genero  \n",
       "0            Comprador(a)      F  \n",
       "1            Comprador(a)      F  \n",
       "2  Coordinador(a) Compras      M  \n",
       "3  Coordinador(a) Compras      M  \n",
       "4            Comprador(a)      F  "
      ]
     },
     "execution_count": 3,
     "metadata": {},
     "output_type": "execute_result"
    }
   ],
   "source": [
    "df.head()"
   ]
  },
  {
   "cell_type": "markdown",
   "metadata": {
    "slideshow": {
     "slide_type": "slide"
    }
   },
   "source": [
    "### y a los ultimos 10"
   ]
  },
  {
   "cell_type": "code",
   "execution_count": 4,
   "metadata": {
    "slideshow": {
     "slide_type": "fragment"
    }
   },
   "outputs": [
    {
     "data": {
      "text/html": [
       "<div>\n",
       "<style>\n",
       "    .dataframe thead tr:only-child th {\n",
       "        text-align: right;\n",
       "    }\n",
       "\n",
       "    .dataframe thead th {\n",
       "        text-align: left;\n",
       "    }\n",
       "\n",
       "    .dataframe tbody tr th {\n",
       "        vertical-align: top;\n",
       "    }\n",
       "</style>\n",
       "<table border=\"1\" class=\"dataframe\">\n",
       "  <thead>\n",
       "    <tr style=\"text-align: right;\">\n",
       "      <th></th>\n",
       "      <th>Empleado</th>\n",
       "      <th>Salario</th>\n",
       "      <th>Mes</th>\n",
       "      <th>Puesto</th>\n",
       "      <th>Genero</th>\n",
       "    </tr>\n",
       "  </thead>\n",
       "  <tbody>\n",
       "    <tr>\n",
       "      <th>5406</th>\n",
       "      <td>ANA MARIA BONCI PEREZ DE RAMIREZ</td>\n",
       "      <td>19,050.00</td>\n",
       "      <td>feb-16</td>\n",
       "      <td>Cajero(a) C</td>\n",
       "      <td>F</td>\n",
       "    </tr>\n",
       "    <tr>\n",
       "      <th>5407</th>\n",
       "      <td>ANA MARIA BONCI PEREZ DE RAMIREZ</td>\n",
       "      <td>10,795.00</td>\n",
       "      <td>ene-16</td>\n",
       "      <td>Cajero(a) C</td>\n",
       "      <td>F</td>\n",
       "    </tr>\n",
       "    <tr>\n",
       "      <th>5408</th>\n",
       "      <td>MARIELA DEL CARMEN CEBALLOS PEÑA</td>\n",
       "      <td>38,449.00</td>\n",
       "      <td>feb-16</td>\n",
       "      <td>Oficial Gestión Deudas</td>\n",
       "      <td>F</td>\n",
       "    </tr>\n",
       "    <tr>\n",
       "      <th>5409</th>\n",
       "      <td>MARIELA DEL CARMEN CEBALLOS PEÑA</td>\n",
       "      <td>21,787.77</td>\n",
       "      <td>ene-16</td>\n",
       "      <td>Oficial Gestión Deudas</td>\n",
       "      <td>F</td>\n",
       "    </tr>\n",
       "    <tr>\n",
       "      <th>5410</th>\n",
       "      <td>NABIL JOSEFINA CANDELARIA FELICIANO</td>\n",
       "      <td>24,493.00</td>\n",
       "      <td>feb-16</td>\n",
       "      <td>Secretaria B</td>\n",
       "      <td>F</td>\n",
       "    </tr>\n",
       "    <tr>\n",
       "      <th>5411</th>\n",
       "      <td>VÍCTOR HICIANO MATÍAS</td>\n",
       "      <td>18,529.00</td>\n",
       "      <td>feb-16</td>\n",
       "      <td>Tasador(a)</td>\n",
       "      <td>M</td>\n",
       "    </tr>\n",
       "    <tr>\n",
       "      <th>5412</th>\n",
       "      <td>PAMELA NIEVE RODRIGUEZ PIMENTEL</td>\n",
       "      <td>12,393.00</td>\n",
       "      <td>feb-16</td>\n",
       "      <td>Asistente Administrativo(a)</td>\n",
       "      <td>F</td>\n",
       "    </tr>\n",
       "    <tr>\n",
       "      <th>5413</th>\n",
       "      <td>MARIA MILQUELLA BAEZ BAEZ</td>\n",
       "      <td>5,679.00</td>\n",
       "      <td>feb-16</td>\n",
       "      <td>Conserje</td>\n",
       "      <td>F</td>\n",
       "    </tr>\n",
       "    <tr>\n",
       "      <th>5414</th>\n",
       "      <td>HENRY MANUEL ARTHUR NARDI</td>\n",
       "      <td>8,584.00</td>\n",
       "      <td>feb-16</td>\n",
       "      <td>Auxiliar Proyecto Motocicletas</td>\n",
       "      <td>M</td>\n",
       "    </tr>\n",
       "    <tr>\n",
       "      <th>5415</th>\n",
       "      <td>MARIA LUISA HERNANDEZ ASENCIO</td>\n",
       "      <td>8,584.00</td>\n",
       "      <td>feb-16</td>\n",
       "      <td>Auxiliar Proyecto Motocicletas</td>\n",
       "      <td>F</td>\n",
       "    </tr>\n",
       "  </tbody>\n",
       "</table>\n",
       "</div>"
      ],
      "text/plain": [
       "                                 Empleado     Salario      Mes  \\\n",
       "5406     ANA MARIA BONCI PEREZ DE RAMIREZ   19,050.00   feb-16   \n",
       "5407     ANA MARIA BONCI PEREZ DE RAMIREZ   10,795.00   ene-16   \n",
       "5408     MARIELA DEL CARMEN CEBALLOS PEÑA   38,449.00   feb-16   \n",
       "5409     MARIELA DEL CARMEN CEBALLOS PEÑA   21,787.77   ene-16   \n",
       "5410  NABIL JOSEFINA CANDELARIA FELICIANO   24,493.00   feb-16   \n",
       "5411                VÍCTOR HICIANO MATÍAS   18,529.00   feb-16   \n",
       "5412      PAMELA NIEVE RODRIGUEZ PIMENTEL   12,393.00   feb-16   \n",
       "5413            MARIA MILQUELLA BAEZ BAEZ    5,679.00   feb-16   \n",
       "5414            HENRY MANUEL ARTHUR NARDI    8,584.00   feb-16   \n",
       "5415        MARIA LUISA HERNANDEZ ASENCIO    8,584.00   feb-16   \n",
       "\n",
       "                              Puesto Genero  \n",
       "5406                     Cajero(a) C      F  \n",
       "5407                     Cajero(a) C      F  \n",
       "5408          Oficial Gestión Deudas      F  \n",
       "5409          Oficial Gestión Deudas      F  \n",
       "5410                    Secretaria B      F  \n",
       "5411                      Tasador(a)      M  \n",
       "5412     Asistente Administrativo(a)      F  \n",
       "5413                        Conserje      F  \n",
       "5414  Auxiliar Proyecto Motocicletas      M  \n",
       "5415  Auxiliar Proyecto Motocicletas      F  "
      ]
     },
     "execution_count": 4,
     "metadata": {},
     "output_type": "execute_result"
    }
   ],
   "source": [
    "df.tail(10)"
   ]
  },
  {
   "cell_type": "markdown",
   "metadata": {
    "slideshow": {
     "slide_type": "slide"
    }
   },
   "source": [
    "### Que tamaño tiene nuestro DataFrame?"
   ]
  },
  {
   "cell_type": "code",
   "execution_count": 5,
   "metadata": {
    "slideshow": {
     "slide_type": "fragment"
    }
   },
   "outputs": [
    {
     "data": {
      "text/plain": [
       "(5416, 5)"
      ]
     },
     "execution_count": 5,
     "metadata": {},
     "output_type": "execute_result"
    }
   ],
   "source": [
    "df.shape"
   ]
  },
  {
   "cell_type": "markdown",
   "metadata": {
    "slideshow": {
     "slide_type": "fragment"
    }
   },
   "source": [
    "### En español?\n",
    "\n",
    "5,416 registros y 5 columnas"
   ]
  },
  {
   "cell_type": "markdown",
   "metadata": {
    "slideshow": {
     "slide_type": "slide"
    }
   },
   "source": [
    "### Nuestro DataFrame _parece_ una tabla o una hoja de cálculo...\n",
    "\n",
    "Cada registro tiene un indice (hasta ahora numerico y autoasignado), cada columna tiene nombre y un tipo de datos...\n",
    "\n",
    "...parecen no necesitar mucha explicación. Aún así veamos que nos dice Pandas:"
   ]
  },
  {
   "cell_type": "code",
   "execution_count": 6,
   "metadata": {
    "slideshow": {
     "slide_type": "fragment"
    }
   },
   "outputs": [
    {
     "name": "stdout",
     "output_type": "stream",
     "text": [
      "<class 'pandas.core.frame.DataFrame'>\n",
      "RangeIndex: 5416 entries, 0 to 5415\n",
      "Data columns (total 5 columns):\n",
      "Empleado     5416 non-null object\n",
      " Salario     5416 non-null object\n",
      "Mes          5416 non-null object\n",
      "Puesto       5416 non-null object\n",
      "Genero       5416 non-null object\n",
      "dtypes: object(5)\n",
      "memory usage: 211.6+ KB\n"
     ]
    }
   ],
   "source": [
    "df.info()"
   ]
  },
  {
   "cell_type": "markdown",
   "metadata": {
    "slideshow": {
     "slide_type": "slide"
    }
   },
   "source": [
    "## Limpieza de data\n",
    "\n",
    "### Valores faltantes o nulos\n",
    "\n",
    "El conteo de cada columna y el tipo nos sugiere que no hay valores faltantes. Pero, vamos a confirmarlo:"
   ]
  },
  {
   "cell_type": "code",
   "execution_count": 7,
   "metadata": {
    "slideshow": {
     "slide_type": "fragment"
    }
   },
   "outputs": [
    {
     "data": {
      "text/plain": [
       "Empleado     False\n",
       " Salario     False\n",
       "Mes          False\n",
       "Puesto       False\n",
       "Genero       False\n",
       "dtype: bool"
      ]
     },
     "execution_count": 7,
     "metadata": {},
     "output_type": "execute_result"
    }
   ],
   "source": [
    "df.isnull().any()"
   ]
  },
  {
   "cell_type": "markdown",
   "metadata": {
    "slideshow": {
     "slide_type": "slide"
    }
   },
   "source": [
    "### Normalizar o limpiar los nombres de las columnas\n",
    "\n",
    "El DataFrame tiene una propiedad _columns_ que es (_como_) una lista de los nombres de las columnas."
   ]
  },
  {
   "cell_type": "code",
   "execution_count": 8,
   "metadata": {
    "slideshow": {
     "slide_type": "fragment"
    }
   },
   "outputs": [
    {
     "data": {
      "text/plain": [
       "Index(['Empleado', ' Salario ', 'Mes', 'Puesto', 'Genero'], dtype='object')"
      ]
     },
     "execution_count": 8,
     "metadata": {},
     "output_type": "execute_result"
    }
   ],
   "source": [
    "df.columns"
   ]
  },
  {
   "cell_type": "markdown",
   "metadata": {
    "slideshow": {
     "slide_type": "fragment"
    }
   },
   "source": [
    "La columna Salario parece tener un espacio de mas. Esto nos importa porque por comodidad queremos acceder a los valores de cada columna haciendo algo como:"
   ]
  },
  {
   "cell_type": "code",
   "execution_count": 9,
   "metadata": {
    "slideshow": {
     "slide_type": "fragment"
    }
   },
   "outputs": [
    {
     "data": {
      "text/plain": [
       "0    feb-16\n",
       "1    ene-16\n",
       "2    feb-16\n",
       "3    ene-16\n",
       "4    feb-16\n",
       "Name: Mes, dtype: object"
      ]
     },
     "execution_count": 9,
     "metadata": {},
     "output_type": "execute_result"
    }
   ],
   "source": [
    "df.Mes.head()"
   ]
  },
  {
   "cell_type": "markdown",
   "metadata": {
    "slideshow": {
     "slide_type": "slide"
    }
   },
   "source": [
    "Arreglemos eso de una forma que se asegure que todos los nombres de columnas esten \"limpios\". Para eso:\n",
    "\n",
    "* iteramos por cada columna e invocamos funciones propias del tipo de dato _string_ para limpiarlos (gracias Python)\n",
    "* usamos strip para quitar espacios delante y detras\n",
    "* y finalmente lower para convertir todo a minusculas"
   ]
  },
  {
   "cell_type": "code",
   "execution_count": 10,
   "metadata": {
    "slideshow": {
     "slide_type": "fragment"
    }
   },
   "outputs": [
    {
     "data": {
      "text/plain": [
       "Index(['empleado', 'salario', 'mes', 'puesto', 'genero'], dtype='object')"
      ]
     },
     "execution_count": 10,
     "metadata": {},
     "output_type": "execute_result"
    }
   ],
   "source": [
    "df.columns = [x.strip().lower() for x in df.columns.values]\n",
    "df.columns"
   ]
  },
  {
   "cell_type": "markdown",
   "metadata": {
    "slideshow": {
     "slide_type": "fragment"
    }
   },
   "source": [
    "Ahora todas las columnas tienen nombres sencillos, faciles de utilizar."
   ]
  },
  {
   "cell_type": "markdown",
   "metadata": {
    "slideshow": {
     "slide_type": "slide"
    }
   },
   "source": [
    "### Salarios _limpios_"
   ]
  },
  {
   "cell_type": "code",
   "execution_count": 11,
   "metadata": {
    "slideshow": {
     "slide_type": "fragment"
    }
   },
   "outputs": [
    {
     "data": {
      "text/plain": [
       "0     50,277.00 \n",
       "1     50,277.00 \n",
       "2     63,500.00 \n",
       "3     63,500.00 \n",
       "4     50,277.00 \n",
       "Name: salario, dtype: object"
      ]
     },
     "execution_count": 11,
     "metadata": {},
     "output_type": "execute_result"
    }
   ],
   "source": [
    "df.salario.head()"
   ]
  },
  {
   "cell_type": "markdown",
   "metadata": {
    "slideshow": {
     "slide_type": "fragment"
    }
   },
   "source": [
    "La columna salario tiene un tipo de dato _object_. Esto normalmente se refiere a texto libre. Para nuestro analisis necesitamos interpretar los valores como números."
   ]
  },
  {
   "cell_type": "markdown",
   "metadata": {
    "slideshow": {
     "slide_type": "slide"
    }
   },
   "source": [
    "Con la función _apply_ le aplicamos una operación a cada valor de la columna. En este caso usamos un _lambda_ (o _funcion anonima_) para:\n",
    "* quitar las comas y los espacios en blanco (replace y strip)\n",
    "* convertir a número (to_numeric)"
   ]
  },
  {
   "cell_type": "code",
   "execution_count": 12,
   "metadata": {
    "slideshow": {
     "slide_type": "fragment"
    }
   },
   "outputs": [],
   "source": [
    "limpiar_salario = lambda x: pd.to_numeric(x.replace(',','').strip(), errors='coerce')\n",
    "df.salario = df.salario.apply(limpiar_salario)"
   ]
  },
  {
   "cell_type": "markdown",
   "metadata": {
    "slideshow": {
     "slide_type": "fragment"
    }
   },
   "source": [
    "Veamos como quedo:"
   ]
  },
  {
   "cell_type": "code",
   "execution_count": 13,
   "metadata": {
    "slideshow": {
     "slide_type": "fragment"
    }
   },
   "outputs": [
    {
     "data": {
      "text/plain": [
       "0    50277.0\n",
       "1    50277.0\n",
       "2    63500.0\n",
       "3    63500.0\n",
       "4    50277.0\n",
       "Name: salario, dtype: float64"
      ]
     },
     "execution_count": 13,
     "metadata": {},
     "output_type": "execute_result"
    }
   ],
   "source": [
    "df.salario.head()"
   ]
  },
  {
   "cell_type": "markdown",
   "metadata": {
    "slideshow": {
     "slide_type": "slide"
    }
   },
   "source": [
    "### Resumen de 7 números\n",
    "\n",
    "Habiendo realizado la conversión podemos ver estadísticas descriptivas básicas (_por fin!_) de los salarios."
   ]
  },
  {
   "cell_type": "code",
   "execution_count": 14,
   "metadata": {
    "slideshow": {
     "slide_type": "fragment"
    }
   },
   "outputs": [
    {
     "data": {
      "text/plain": [
       "count      5416.000000\n",
       "mean      43711.412602\n",
       "std       30802.706133\n",
       "min        3502.070000\n",
       "25%       24343.000000\n",
       "50%       38946.000000\n",
       "75%       51556.000000\n",
       "max      559600.000000\n",
       "Name: salario, dtype: float64"
      ]
     },
     "execution_count": 14,
     "metadata": {},
     "output_type": "execute_result"
    }
   ],
   "source": [
    "df.salario.describe()"
   ]
  },
  {
   "cell_type": "markdown",
   "metadata": {
    "slideshow": {
     "slide_type": "slide"
    }
   },
   "source": [
    "### Limpie su _puesto_"
   ]
  },
  {
   "cell_type": "code",
   "execution_count": 15,
   "metadata": {
    "slideshow": {
     "slide_type": "fragment"
    }
   },
   "outputs": [
    {
     "data": {
      "text/plain": [
       "count         5416\n",
       "unique         271\n",
       "top       Conserje\n",
       "freq           289\n",
       "Name: puesto, dtype: object"
      ]
     },
     "execution_count": 15,
     "metadata": {},
     "output_type": "execute_result"
    }
   ],
   "source": [
    "df.puesto.describe()"
   ]
  },
  {
   "cell_type": "markdown",
   "metadata": {
    "slideshow": {
     "slide_type": "fragment"
    }
   },
   "source": [
    "*271* puestos diferentes? Vamos a asegurarnos que no se abulte esta cantidad debido a que un mismo puesto este escrito con espacios de más como paso con la columna _Salario_ (o sin acentos)."
   ]
  },
  {
   "cell_type": "markdown",
   "metadata": {
    "slideshow": {
     "slide_type": "slide"
    }
   },
   "source": [
    "Para esto necesitaremos uno que otro truco cuya explicación escapa al alcance de la presentación (_pero_ que puede ser replicada con un poco de [stackoverflow](http://stackoverflow.com/))\n",
    "\n",
    "Brevemente:\n",
    "* definimos una funcion *limpiar\\_puesto* donde\n",
    "    * usamos _unidecode_ para que nos ayude a quitar los acentos\n",
    "    * usamos _re_ para con una expresión regular quitar los fragmentos entre parentesis de los puestos\n",
    "    * usamos _translate_ para quitar puntos y comas no deseados\n",
    "* le aplicamos esta funcion a los datos de la columna _puesto_ para crear una nueva columna *puesto\\_clean*"
   ]
  },
  {
   "cell_type": "code",
   "execution_count": 16,
   "metadata": {
    "slideshow": {
     "slide_type": "slide"
    }
   },
   "outputs": [],
   "source": [
    "from unidecode import unidecode\n",
    "import re\n",
    "\n",
    "def limpiar_puesto(pstr):\n",
    "    pstr = unidecode(pstr).strip().lower()\n",
    "    pstr = re.sub('\\(.*?\\)','', pstr)\n",
    "    pstr = pstr.translate({ord('.'): None, ord(','): None})\n",
    "    return pstr"
   ]
  },
  {
   "cell_type": "code",
   "execution_count": 17,
   "metadata": {
    "slideshow": {
     "slide_type": "fragment"
    }
   },
   "outputs": [
    {
     "data": {
      "text/plain": [
       "count         5416\n",
       "unique         269\n",
       "top       conserje\n",
       "freq           289\n",
       "Name: puesto_clean, dtype: object"
      ]
     },
     "execution_count": 17,
     "metadata": {},
     "output_type": "execute_result"
    }
   ],
   "source": [
    "# tambien podemos acceder a las columnas con esta notación df['columna']\n",
    "df['puesto_clean'] = df.puesto.apply(limpiar_puesto)\n",
    "df.puesto_clean.describe()"
   ]
  },
  {
   "cell_type": "markdown",
   "metadata": {
    "slideshow": {
     "slide_type": "fragment"
    }
   },
   "source": [
    "Oh sorpresa! Ahora son _269_ puestos en lugar de _271_.\n",
    "\n",
    "*Se deja de ejercicio al interesado averiguar cuales valores fueron eliminados*"
   ]
  },
  {
   "cell_type": "markdown",
   "metadata": {
    "slideshow": {
     "slide_type": "slide"
    }
   },
   "source": [
    "### Todos los generos son limpios"
   ]
  },
  {
   "cell_type": "code",
   "execution_count": 18,
   "metadata": {
    "slideshow": {
     "slide_type": "fragment"
    }
   },
   "outputs": [
    {
     "data": {
      "text/plain": [
       "F    3198\n",
       "M    2218\n",
       "Name: genero, dtype: int64"
      ]
     },
     "execution_count": 18,
     "metadata": {},
     "output_type": "execute_result"
    }
   ],
   "source": [
    "df.genero.value_counts()"
   ]
  },
  {
   "cell_type": "code",
   "execution_count": 19,
   "metadata": {
    "slideshow": {
     "slide_type": "fragment"
    }
   },
   "outputs": [
    {
     "data": {
      "text/plain": [
       "count     5416\n",
       "unique       2\n",
       "top          F\n",
       "freq      3198\n",
       "Name: genero, dtype: object"
      ]
     },
     "execution_count": 19,
     "metadata": {},
     "output_type": "execute_result"
    }
   ],
   "source": [
    "df.genero.describe()"
   ]
  },
  {
   "cell_type": "markdown",
   "metadata": {
    "slideshow": {
     "slide_type": "slide"
    }
   },
   "source": [
    "### Y los meses tambien"
   ]
  },
  {
   "cell_type": "code",
   "execution_count": 20,
   "metadata": {
    "slideshow": {
     "slide_type": "fragment"
    }
   },
   "outputs": [
    {
     "data": {
      "text/plain": [
       "feb-16    2713\n",
       "ene-16    2703\n",
       "Name: mes, dtype: int64"
      ]
     },
     "execution_count": 20,
     "metadata": {},
     "output_type": "execute_result"
    }
   ],
   "source": [
    "df.mes.value_counts()"
   ]
  },
  {
   "cell_type": "code",
   "execution_count": 21,
   "metadata": {
    "slideshow": {
     "slide_type": "fragment"
    }
   },
   "outputs": [
    {
     "data": {
      "text/plain": [
       "count       5416\n",
       "unique         2\n",
       "top       feb-16\n",
       "freq        2713\n",
       "Name: mes, dtype: object"
      ]
     },
     "execution_count": 21,
     "metadata": {},
     "output_type": "execute_result"
    }
   ],
   "source": [
    "df.mes.describe()"
   ]
  },
  {
   "cell_type": "markdown",
   "metadata": {
    "collapsed": true,
    "slideshow": {
     "slide_type": "slide"
    }
   },
   "source": [
    "## Empezar a explorar un poco\n",
    "\n",
    "### Filtrar y seleccionar data\n",
    "\n",
    "Separemos la nomina de cada mes disponible."
   ]
  },
  {
   "cell_type": "code",
   "execution_count": 22,
   "metadata": {
    "slideshow": {
     "slide_type": "fragment"
    }
   },
   "outputs": [
    {
     "name": "stdout",
     "output_type": "stream",
     "text": [
      "(2703, 6)\n",
      "(2713, 6)\n"
     ]
    }
   ],
   "source": [
    "ene = df[df.mes == 'ene-16']\n",
    "feb = df[df.mes == 'feb-16']\n",
    "print(ene.shape)\n",
    "print(feb.shape)"
   ]
  },
  {
   "cell_type": "markdown",
   "metadata": {
    "slideshow": {
     "slide_type": "slide"
    }
   },
   "source": [
    "### High-rollers\n",
    "\n",
    "Veamos las posiciones de _grandes_ salarios. Filtramos con una condicion y seleccionamos las columnas que nos interesan:"
   ]
  },
  {
   "cell_type": "code",
   "execution_count": 23,
   "metadata": {
    "slideshow": {
     "slide_type": "fragment"
    }
   },
   "outputs": [
    {
     "data": {
      "text/html": [
       "<div>\n",
       "<style>\n",
       "    .dataframe thead tr:only-child th {\n",
       "        text-align: right;\n",
       "    }\n",
       "\n",
       "    .dataframe thead th {\n",
       "        text-align: left;\n",
       "    }\n",
       "\n",
       "    .dataframe tbody tr th {\n",
       "        vertical-align: top;\n",
       "    }\n",
       "</style>\n",
       "<table border=\"1\" class=\"dataframe\">\n",
       "  <thead>\n",
       "    <tr style=\"text-align: right;\">\n",
       "      <th></th>\n",
       "      <th>puesto_clean</th>\n",
       "      <th>salario</th>\n",
       "      <th>genero</th>\n",
       "    </tr>\n",
       "  </thead>\n",
       "  <tbody>\n",
       "    <tr>\n",
       "      <th>1596</th>\n",
       "      <td>subdirector fiscalizacion</td>\n",
       "      <td>339730.0</td>\n",
       "      <td>M</td>\n",
       "    </tr>\n",
       "    <tr>\n",
       "      <th>1598</th>\n",
       "      <td>subdirector juridica</td>\n",
       "      <td>339730.0</td>\n",
       "      <td>M</td>\n",
       "    </tr>\n",
       "    <tr>\n",
       "      <th>4543</th>\n",
       "      <td>director general</td>\n",
       "      <td>559600.0</td>\n",
       "      <td>M</td>\n",
       "    </tr>\n",
       "    <tr>\n",
       "      <th>4547</th>\n",
       "      <td>subdirectora de planificacion y desarrollo</td>\n",
       "      <td>339730.0</td>\n",
       "      <td>F</td>\n",
       "    </tr>\n",
       "    <tr>\n",
       "      <th>4553</th>\n",
       "      <td>subdirector recaudacion</td>\n",
       "      <td>339730.0</td>\n",
       "      <td>M</td>\n",
       "    </tr>\n",
       "  </tbody>\n",
       "</table>\n",
       "</div>"
      ],
      "text/plain": [
       "                                    puesto_clean   salario genero\n",
       "1596                   subdirector fiscalizacion  339730.0      M\n",
       "1598                        subdirector juridica  339730.0      M\n",
       "4543                            director general  559600.0      M\n",
       "4547  subdirectora de planificacion y desarrollo  339730.0      F\n",
       "4553                     subdirector recaudacion  339730.0      M"
      ]
     },
     "execution_count": 23,
     "metadata": {},
     "output_type": "execute_result"
    }
   ],
   "source": [
    "ene[ene.salario > 250000][['puesto_clean','salario','genero']]"
   ]
  },
  {
   "cell_type": "markdown",
   "metadata": {
    "slideshow": {
     "slide_type": "slide"
    }
   },
   "source": [
    "Si se seleccionamos las columnas y despues filtramos, tambien funciona?"
   ]
  },
  {
   "cell_type": "code",
   "execution_count": 24,
   "metadata": {
    "slideshow": {
     "slide_type": "fragment"
    }
   },
   "outputs": [
    {
     "data": {
      "text/html": [
       "<div>\n",
       "<style>\n",
       "    .dataframe thead tr:only-child th {\n",
       "        text-align: right;\n",
       "    }\n",
       "\n",
       "    .dataframe thead th {\n",
       "        text-align: left;\n",
       "    }\n",
       "\n",
       "    .dataframe tbody tr th {\n",
       "        vertical-align: top;\n",
       "    }\n",
       "</style>\n",
       "<table border=\"1\" class=\"dataframe\">\n",
       "  <thead>\n",
       "    <tr style=\"text-align: right;\">\n",
       "      <th></th>\n",
       "      <th>puesto_clean</th>\n",
       "      <th>salario</th>\n",
       "      <th>genero</th>\n",
       "    </tr>\n",
       "  </thead>\n",
       "  <tbody>\n",
       "    <tr>\n",
       "      <th>1596</th>\n",
       "      <td>subdirector fiscalizacion</td>\n",
       "      <td>339730.0</td>\n",
       "      <td>M</td>\n",
       "    </tr>\n",
       "    <tr>\n",
       "      <th>1598</th>\n",
       "      <td>subdirector juridica</td>\n",
       "      <td>339730.0</td>\n",
       "      <td>M</td>\n",
       "    </tr>\n",
       "    <tr>\n",
       "      <th>4543</th>\n",
       "      <td>director general</td>\n",
       "      <td>559600.0</td>\n",
       "      <td>M</td>\n",
       "    </tr>\n",
       "    <tr>\n",
       "      <th>4547</th>\n",
       "      <td>subdirectora de planificacion y desarrollo</td>\n",
       "      <td>339730.0</td>\n",
       "      <td>F</td>\n",
       "    </tr>\n",
       "    <tr>\n",
       "      <th>4553</th>\n",
       "      <td>subdirector recaudacion</td>\n",
       "      <td>339730.0</td>\n",
       "      <td>M</td>\n",
       "    </tr>\n",
       "  </tbody>\n",
       "</table>\n",
       "</div>"
      ],
      "text/plain": [
       "                                    puesto_clean   salario genero\n",
       "1596                   subdirector fiscalizacion  339730.0      M\n",
       "1598                        subdirector juridica  339730.0      M\n",
       "4543                            director general  559600.0      M\n",
       "4547  subdirectora de planificacion y desarrollo  339730.0      F\n",
       "4553                     subdirector recaudacion  339730.0      M"
      ]
     },
     "execution_count": 24,
     "metadata": {},
     "output_type": "execute_result"
    }
   ],
   "source": [
    "ene[['puesto_clean','salario','genero']][ene.salario > 250000]"
   ]
  },
  {
   "cell_type": "markdown",
   "metadata": {
    "slideshow": {
     "slide_type": "fragment"
    }
   },
   "source": [
    "Por que?"
   ]
  },
  {
   "cell_type": "code",
   "execution_count": 25,
   "metadata": {
    "slideshow": {
     "slide_type": "slide"
    }
   },
   "outputs": [
    {
     "data": {
      "text/plain": [
       "1    False\n",
       "3    False\n",
       "5    False\n",
       "7    False\n",
       "9    False\n",
       "Name: salario, dtype: bool"
      ]
     },
     "execution_count": 25,
     "metadata": {},
     "output_type": "execute_result"
    }
   ],
   "source": [
    "(ene.salario > 250000).head()"
   ]
  },
  {
   "cell_type": "markdown",
   "metadata": {
    "slideshow": {
     "slide_type": "fragment"
    }
   },
   "source": [
    "Resulta que la condicion devuelve una [serie](http://pandas.pydata.org/pandas-docs/stable/dsintro.html) de booleanos indicando cuales registros cumplen con la condicion."
   ]
  },
  {
   "cell_type": "markdown",
   "metadata": {
    "slideshow": {
     "slide_type": "slide"
    }
   },
   "source": [
    "### Agrupar data (Group By)\n",
    "\n",
    "Agrupar o separar los datos según los valores de una columna es el primer paso, conocido como _split_, de patrón [_split-apply-combine_](https://www.datacamp.com/community/tutorials/pandas-split-apply-combine-groupby) que veremos de manera natural aquí."
   ]
  },
  {
   "cell_type": "code",
   "execution_count": 26,
   "metadata": {
    "slideshow": {
     "slide_type": "fragment"
    }
   },
   "outputs": [
    {
     "data": {
      "text/plain": [
       "<pandas.core.groupby.DataFrameGroupBy object at 0x0000022B971F1518>"
      ]
     },
     "execution_count": 26,
     "metadata": {},
     "output_type": "execute_result"
    }
   ],
   "source": [
    "por_mes = df.groupby(by='mes')\n",
    "por_mes"
   ]
  },
  {
   "cell_type": "markdown",
   "metadata": {
    "slideshow": {
     "slide_type": "fragment"
    }
   },
   "source": [
    "_groupby_ nos da un colección que relaciona el nombre de cada grupo con la parte de la data que pertenece a dicho grupo."
   ]
  },
  {
   "cell_type": "code",
   "execution_count": 27,
   "metadata": {
    "slideshow": {
     "slide_type": "fragment"
    }
   },
   "outputs": [
    {
     "name": "stdout",
     "output_type": "stream",
     "text": [
      "ene-16 (2703, 6)\n",
      "feb-16 (2713, 6)\n"
     ]
    }
   ],
   "source": [
    "for mes, data_mes in por_mes:\n",
    "    print(mes, data_mes.shape)"
   ]
  },
  {
   "cell_type": "markdown",
   "metadata": {
    "slideshow": {
     "slide_type": "slide"
    }
   },
   "source": [
    "Pero tambien nos permite hacerle preguntas a los distintos grupos a la vez. En efecto llevando a cabo los pasos:\n",
    "\n",
    "* *split* : separar los datos por el mes al que pertenecen\n",
    "* *apply* : a cada grupo formado _aplicarle_ la operación _describe_\n",
    "* *combine* : tomar los resultados y _combinarlos_ en una nueva tabla resultado\n",
    "\n",
    "Todo esto, en un simple línea de código:"
   ]
  },
  {
   "cell_type": "code",
   "execution_count": 28,
   "metadata": {
    "slideshow": {
     "slide_type": "fragment"
    }
   },
   "outputs": [
    {
     "data": {
      "text/html": [
       "<div>\n",
       "<style>\n",
       "    .dataframe thead tr:only-child th {\n",
       "        text-align: right;\n",
       "    }\n",
       "\n",
       "    .dataframe thead th {\n",
       "        text-align: left;\n",
       "    }\n",
       "\n",
       "    .dataframe tbody tr th {\n",
       "        vertical-align: top;\n",
       "    }\n",
       "</style>\n",
       "<table border=\"1\" class=\"dataframe\">\n",
       "  <thead>\n",
       "    <tr style=\"text-align: right;\">\n",
       "      <th></th>\n",
       "      <th>count</th>\n",
       "      <th>mean</th>\n",
       "      <th>std</th>\n",
       "      <th>min</th>\n",
       "      <th>25%</th>\n",
       "      <th>50%</th>\n",
       "      <th>75%</th>\n",
       "      <th>max</th>\n",
       "    </tr>\n",
       "    <tr>\n",
       "      <th>mes</th>\n",
       "      <th></th>\n",
       "      <th></th>\n",
       "      <th></th>\n",
       "      <th></th>\n",
       "      <th></th>\n",
       "      <th></th>\n",
       "      <th></th>\n",
       "      <th></th>\n",
       "    </tr>\n",
       "  </thead>\n",
       "  <tbody>\n",
       "    <tr>\n",
       "      <th>ene-16</th>\n",
       "      <td>2703.0</td>\n",
       "      <td>43661.817984</td>\n",
       "      <td>30818.804953</td>\n",
       "      <td>3502.07</td>\n",
       "      <td>24057.5</td>\n",
       "      <td>38946.0</td>\n",
       "      <td>51556.0</td>\n",
       "      <td>559600.0</td>\n",
       "    </tr>\n",
       "    <tr>\n",
       "      <th>feb-16</th>\n",
       "      <td>2713.0</td>\n",
       "      <td>43760.824416</td>\n",
       "      <td>30792.260238</td>\n",
       "      <td>5679.00</td>\n",
       "      <td>24343.0</td>\n",
       "      <td>39045.0</td>\n",
       "      <td>51556.0</td>\n",
       "      <td>559600.0</td>\n",
       "    </tr>\n",
       "  </tbody>\n",
       "</table>\n",
       "</div>"
      ],
      "text/plain": [
       "         count          mean           std      min      25%      50%  \\\n",
       "mes                                                                     \n",
       "ene-16  2703.0  43661.817984  30818.804953  3502.07  24057.5  38946.0   \n",
       "feb-16  2713.0  43760.824416  30792.260238  5679.00  24343.0  39045.0   \n",
       "\n",
       "            75%       max  \n",
       "mes                        \n",
       "ene-16  51556.0  559600.0  \n",
       "feb-16  51556.0  559600.0  "
      ]
     },
     "execution_count": 28,
     "metadata": {},
     "output_type": "execute_result"
    }
   ],
   "source": [
    "por_mes.salario.describe()"
   ]
  },
  {
   "cell_type": "markdown",
   "metadata": {
    "slideshow": {
     "slide_type": "slide"
    }
   },
   "source": [
    "Podemos agrupar por cualquier numero de columnas que querramos, formando una jerarquia de profundidad arbitraria."
   ]
  },
  {
   "cell_type": "code",
   "execution_count": 29,
   "metadata": {
    "slideshow": {
     "slide_type": "fragment"
    }
   },
   "outputs": [
    {
     "data": {
      "text/html": [
       "<div>\n",
       "<style>\n",
       "    .dataframe thead tr:only-child th {\n",
       "        text-align: right;\n",
       "    }\n",
       "\n",
       "    .dataframe thead th {\n",
       "        text-align: left;\n",
       "    }\n",
       "\n",
       "    .dataframe tbody tr th {\n",
       "        vertical-align: top;\n",
       "    }\n",
       "</style>\n",
       "<table border=\"1\" class=\"dataframe\">\n",
       "  <thead>\n",
       "    <tr style=\"text-align: right;\">\n",
       "      <th></th>\n",
       "      <th></th>\n",
       "      <th>count</th>\n",
       "      <th>mean</th>\n",
       "      <th>std</th>\n",
       "      <th>min</th>\n",
       "      <th>25%</th>\n",
       "      <th>50%</th>\n",
       "      <th>75%</th>\n",
       "      <th>max</th>\n",
       "    </tr>\n",
       "    <tr>\n",
       "      <th>mes</th>\n",
       "      <th>genero</th>\n",
       "      <th></th>\n",
       "      <th></th>\n",
       "      <th></th>\n",
       "      <th></th>\n",
       "      <th></th>\n",
       "      <th></th>\n",
       "      <th></th>\n",
       "      <th></th>\n",
       "    </tr>\n",
       "  </thead>\n",
       "  <tbody>\n",
       "    <tr>\n",
       "      <th rowspan=\"2\" valign=\"top\">ene-16</th>\n",
       "      <th>F</th>\n",
       "      <td>1598.0</td>\n",
       "      <td>44691.762766</td>\n",
       "      <td>27254.121784</td>\n",
       "      <td>4838.13</td>\n",
       "      <td>28726.0</td>\n",
       "      <td>42333.0</td>\n",
       "      <td>53280.0</td>\n",
       "      <td>339730.0</td>\n",
       "    </tr>\n",
       "    <tr>\n",
       "      <th>M</th>\n",
       "      <td>1105.0</td>\n",
       "      <td>42172.359376</td>\n",
       "      <td>35303.786981</td>\n",
       "      <td>3502.07</td>\n",
       "      <td>20410.0</td>\n",
       "      <td>34774.0</td>\n",
       "      <td>51556.0</td>\n",
       "      <td>559600.0</td>\n",
       "    </tr>\n",
       "    <tr>\n",
       "      <th rowspan=\"2\" valign=\"top\">feb-16</th>\n",
       "      <th>F</th>\n",
       "      <td>1600.0</td>\n",
       "      <td>44827.896875</td>\n",
       "      <td>27224.643133</td>\n",
       "      <td>5679.00</td>\n",
       "      <td>28726.0</td>\n",
       "      <td>42333.0</td>\n",
       "      <td>53280.0</td>\n",
       "      <td>339730.0</td>\n",
       "    </tr>\n",
       "    <tr>\n",
       "      <th>M</th>\n",
       "      <td>1113.0</td>\n",
       "      <td>42226.847835</td>\n",
       "      <td>35251.273038</td>\n",
       "      <td>5722.67</td>\n",
       "      <td>20410.0</td>\n",
       "      <td>34774.0</td>\n",
       "      <td>51556.0</td>\n",
       "      <td>559600.0</td>\n",
       "    </tr>\n",
       "  </tbody>\n",
       "</table>\n",
       "</div>"
      ],
      "text/plain": [
       "                count          mean           std      min      25%      50%  \\\n",
       "mes    genero                                                                  \n",
       "ene-16 F       1598.0  44691.762766  27254.121784  4838.13  28726.0  42333.0   \n",
       "       M       1105.0  42172.359376  35303.786981  3502.07  20410.0  34774.0   \n",
       "feb-16 F       1600.0  44827.896875  27224.643133  5679.00  28726.0  42333.0   \n",
       "       M       1113.0  42226.847835  35251.273038  5722.67  20410.0  34774.0   \n",
       "\n",
       "                   75%       max  \n",
       "mes    genero                     \n",
       "ene-16 F       53280.0  339730.0  \n",
       "       M       51556.0  559600.0  \n",
       "feb-16 F       53280.0  339730.0  \n",
       "       M       51556.0  559600.0  "
      ]
     },
     "execution_count": 29,
     "metadata": {},
     "output_type": "execute_result"
    }
   ],
   "source": [
    "df.groupby(by=['mes','genero']).salario.describe()"
   ]
  },
  {
   "cell_type": "markdown",
   "metadata": {
    "slideshow": {
     "slide_type": "slide"
    }
   },
   "source": [
    "#### Proporción de la empleomanía por genero\n",
    "\n",
    "Podemos realizar varios pasos tipo _apply_ en hilo, inclusive con operaciones arbitrarias (funciones anonimas o lambdas)"
   ]
  },
  {
   "cell_type": "code",
   "execution_count": 30,
   "metadata": {
    "slideshow": {
     "slide_type": "fragment"
    }
   },
   "outputs": [
    {
     "data": {
      "text/plain": [
       "genero\n",
       "F    0.589753\n",
       "M    0.410247\n",
       "Name: salario, dtype: float64"
      ]
     },
     "execution_count": 30,
     "metadata": {},
     "output_type": "execute_result"
    }
   ],
   "source": [
    "feb_por_gen = feb.groupby(by='genero')\n",
    "total_empleados = feb.salario.count()\n",
    "feb_por_gen.salario.count().apply(lambda x: x/total_empleados)"
   ]
  },
  {
   "cell_type": "markdown",
   "metadata": {
    "slideshow": {
     "slide_type": "slide"
    }
   },
   "source": [
    "#### Proporción de la nomina por genero"
   ]
  },
  {
   "cell_type": "code",
   "execution_count": 31,
   "metadata": {
    "slideshow": {
     "slide_type": "fragment"
    }
   },
   "outputs": [
    {
     "data": {
      "text/plain": [
       "genero\n",
       "F    0.604134\n",
       "M    0.395866\n",
       "Name: salario, dtype: float64"
      ]
     },
     "execution_count": 31,
     "metadata": {},
     "output_type": "execute_result"
    }
   ],
   "source": [
    "total_nomina = feb.salario.sum()\n",
    "feb_por_gen.salario.sum().apply(lambda x: x/total_nomina)"
   ]
  },
  {
   "cell_type": "markdown",
   "metadata": {
    "slideshow": {
     "slide_type": "fragment"
    }
   },
   "source": [
    "Se fijaron bien?\n",
    "\n",
    "Las mujeres son el 58.97% de la empleomanía y el 60.41% de la nómina. Mientras que los hombres son el 41.02% de la empleomanía y el 39.59% de la nómina.\n",
    "\n",
    "Hmmm..."
   ]
  },
  {
   "cell_type": "markdown",
   "metadata": {
    "slideshow": {
     "slide_type": "slide"
    }
   },
   "source": [
    "## A graficar un poco\n",
    "\n",
    "Resulta que con Pandas, podemos continuar el hilo de _apply_ y convertir la tabla en un grafico de barra muy facilmente. En este caso, la proporción de la nómina asignada a hombres y mujeres."
   ]
  },
  {
   "cell_type": "code",
   "execution_count": 32,
   "metadata": {
    "slideshow": {
     "slide_type": "fragment"
    }
   },
   "outputs": [
    {
     "data": {
      "text/plain": [
       "<matplotlib.axes._subplots.AxesSubplot at 0x22b97b2fd68>"
      ]
     },
     "execution_count": 32,
     "metadata": {},
     "output_type": "execute_result"
    },
    {
     "data": {
      "image/png": "[encoded data removed]",
      "text/plain": [
       "<matplotlib.figure.Figure at 0x22b97b2f320>"
      ]
     },
     "metadata": {},
     "output_type": "display_data"
    }
   ],
   "source": [
    "# esto es para que genere los graficos aqui dentro\n",
    "%matplotlib inline\n",
    "feb_por_gen.salario.sum().apply(lambda x: x/total_nomina).plot(kind='bar')"
   ]
  },
  {
   "cell_type": "markdown",
   "metadata": {
    "slideshow": {
     "slide_type": "slide"
    }
   },
   "source": [
    "### Mejoremos el look un poco con Seaborn\n",
    "\n",
    "![seaborn](https://i.pinimg.com/originals/b0/7a/b4/b07ab4194579b7359bb7f639b87729ae.jpg)\n",
    "\n",
    "La libreria de visualización [Seaborn](https://stanford.edu/~mwaskom/software/seaborn/) es:\n",
    "* muy popular\n",
    "* facil de usar\n",
    "* mas _inteligente_\n",
    "* se ve mas bonita por defecto que _matplotlib_ (tan solo importarla cambia el estilo y colores de los graficos generados)\n"
   ]
  },
  {
   "cell_type": "markdown",
   "metadata": {
    "slideshow": {
     "slide_type": "slide"
    }
   },
   "source": [
    "### Diagrama de frecuencia de empleados mujeres y hombres"
   ]
  },
  {
   "cell_type": "code",
   "execution_count": 33,
   "metadata": {
    "slideshow": {
     "slide_type": "fragment"
    }
   },
   "outputs": [
    {
     "data": {
      "text/plain": [
       "<matplotlib.axes._subplots.AxesSubplot at 0x22b98d55e10>"
      ]
     },
     "execution_count": 33,
     "metadata": {},
     "output_type": "execute_result"
    },
    {
     "data": {
      "image/png": "[encoded data removed]",
      "text/plain": [
       "<matplotlib.figure.Figure at 0x22b97269978>"
      ]
     },
     "metadata": {},
     "output_type": "display_data"
    }
   ],
   "source": [
    "import seaborn as sns\n",
    "sns.countplot(x='genero',data=feb)"
   ]
  },
  {
   "cell_type": "markdown",
   "metadata": {
    "slideshow": {
     "slide_type": "slide"
    }
   },
   "source": [
    "### Proporción de la nómina asignada a mujeres y hombres (reloaded)\n",
    "Aquí vemos como el estilo del gráfico cambio solo por importar Seaborn. A mi me parece más bonito."
   ]
  },
  {
   "cell_type": "code",
   "execution_count": 34,
   "metadata": {
    "slideshow": {
     "slide_type": "fragment"
    }
   },
   "outputs": [
    {
     "data": {
      "text/plain": [
       "<matplotlib.axes._subplots.AxesSubplot at 0x22b98dccd30>"
      ]
     },
     "execution_count": 34,
     "metadata": {},
     "output_type": "execute_result"
    },
    {
     "data": {
      "image/png": "[encoded data removed]",
      "text/plain": [
       "<matplotlib.figure.Figure at 0x22b94a75ac8>"
      ]
     },
     "metadata": {},
     "output_type": "display_data"
    }
   ],
   "source": [
    "feb_por_gen.salario.sum().apply(lambda x: x/total_nomina).plot(kind='bar')"
   ]
  },
  {
   "cell_type": "markdown",
   "metadata": {
    "slideshow": {
     "slide_type": "slide"
    }
   },
   "source": [
    "## Histogramas del Salario"
   ]
  },
  {
   "cell_type": "code",
   "execution_count": 35,
   "metadata": {
    "slideshow": {
     "slide_type": "fragment"
    }
   },
   "outputs": [
    {
     "data": {
      "text/plain": [
       "<matplotlib.axes._subplots.AxesSubplot at 0x22b99e96278>"
      ]
     },
     "execution_count": 35,
     "metadata": {},
     "output_type": "execute_result"
    },
    {
     "data": {
      "image/png": "[encoded data removed]",
      "text/plain": [
       "<matplotlib.figure.Figure at 0x22b99e58eb8>"
      ]
     },
     "metadata": {},
     "output_type": "display_data"
    }
   ],
   "source": [
    "sns.distplot(feb.salario, kde=False)"
   ]
  },
  {
   "cell_type": "markdown",
   "metadata": {
    "slideshow": {
     "slide_type": "slide"
    }
   },
   "source": [
    "### Histograma por genero (lado a lado)"
   ]
  },
  {
   "cell_type": "code",
   "execution_count": 36,
   "metadata": {
    "slideshow": {
     "slide_type": "fragment"
    }
   },
   "outputs": [
    {
     "data": {
      "text/plain": [
       "<seaborn.axisgrid.FacetGrid at 0x22b9a029ba8>"
      ]
     },
     "execution_count": 36,
     "metadata": {},
     "output_type": "execute_result"
    },
    {
     "data": {
      "image/png": "[encoded data removed]",
      "text/plain": [
       "<matplotlib.figure.Figure at 0x22b9a029208>"
      ]
     },
     "metadata": {},
     "output_type": "display_data"
    }
   ],
   "source": [
    "sns.FacetGrid(data=feb, col='genero', size=8).map(sns.distplot,'salario', kde=False)"
   ]
  },
  {
   "cell_type": "markdown",
   "metadata": {
    "slideshow": {
     "slide_type": "slide"
    }
   },
   "source": [
    "### Diagrama de cajas (box & whiskers)\n",
    "\n",
    "![boxplot](http://www.datavizcatalogue.com/methods/images/anatomy/box_plot.png)"
   ]
  },
  {
   "cell_type": "code",
   "execution_count": 77,
   "metadata": {
    "slideshow": {
     "slide_type": "slide"
    }
   },
   "outputs": [
    {
     "data": {
      "text/plain": [
       "<seaborn.axisgrid.FacetGrid at 0x22b9e859160>"
      ]
     },
     "execution_count": 77,
     "metadata": {},
     "output_type": "execute_result"
    },
    {
     "data": {
      "image/png": "[encoded data removed]",
      "text/plain": [
       "<matplotlib.figure.Figure at 0x22b9e871a58>"
      ]
     },
     "metadata": {},
     "output_type": "display_data"
    }
   ],
   "source": [
    "sns.factorplot(data=feb, x='genero',y='salario',hue='genero', kind='box',size=6)"
   ]
  },
  {
   "cell_type": "markdown",
   "metadata": {
    "slideshow": {
     "slide_type": "slide"
    }
   },
   "source": [
    "### Una tangente (a)normal\n",
    "\n",
    "Cómo se vería una distribución normal (gaussiana) si tuviera la media y desviación que vemos empíricamente en los datos?\n",
    "\n",
    "Seaborn y Numpy al rescate!"
   ]
  },
  {
   "cell_type": "code",
   "execution_count": 38,
   "metadata": {
    "slideshow": {
     "slide_type": "fragment"
    }
   },
   "outputs": [
    {
     "data": {
      "text/plain": [
       "<matplotlib.axes._subplots.AxesSubplot at 0x22b9a4d0e80>"
      ]
     },
     "execution_count": 38,
     "metadata": {},
     "output_type": "execute_result"
    },
    {
     "data": {
      "image/png": "[encoded data removed]",
      "text/plain": [
       "<matplotlib.figure.Figure at 0x22b9a594828>"
      ]
     },
     "metadata": {},
     "output_type": "display_data"
    }
   ],
   "source": [
    "import numpy as np\n",
    "sns.distplot(np.random.normal(feb.salario.mean(),feb.salario.std(),feb.shape[0]))"
   ]
  },
  {
   "cell_type": "markdown",
   "metadata": {
    "slideshow": {
     "slide_type": "slide"
    }
   },
   "source": [
    "## Empecemos a enfocar nuestra exploración"
   ]
  },
  {
   "cell_type": "markdown",
   "metadata": {
    "slideshow": {
     "slide_type": "subslide"
    }
   },
   "source": [
    "#### Diference entre salario promedio por genero"
   ]
  },
  {
   "cell_type": "code",
   "execution_count": 39,
   "metadata": {
    "slideshow": {
     "slide_type": "fragment"
    }
   },
   "outputs": [
    {
     "data": {
      "text/plain": [
       "genero\n",
       "F    44827.896875\n",
       "M    42226.847835\n",
       "Name: salario, dtype: float64"
      ]
     },
     "execution_count": 39,
     "metadata": {},
     "output_type": "execute_result"
    }
   ],
   "source": [
    "feb_por_gen.salario.mean()"
   ]
  },
  {
   "cell_type": "code",
   "execution_count": 40,
   "metadata": {
    "slideshow": {
     "slide_type": "fragment"
    }
   },
   "outputs": [
    {
     "data": {
      "text/plain": [
       "2601.0490403189542"
      ]
     },
     "execution_count": 40,
     "metadata": {},
     "output_type": "execute_result"
    }
   ],
   "source": [
    "salario_promedio_f, salario_promedio_m = feb_por_gen.salario.mean()[['F','M']]\n",
    "salario_promedio_f - salario_promedio_m"
   ]
  },
  {
   "cell_type": "markdown",
   "metadata": {
    "slideshow": {
     "slide_type": "fragment"
    }
   },
   "source": [
    "Parece ser que el salario promedio de las mujeres _supero_ en *2601.05 DOP* al de los hombres..."
   ]
  },
  {
   "cell_type": "markdown",
   "metadata": {
    "slideshow": {
     "slide_type": "slide"
    }
   },
   "source": [
    "### Relacion salario mujeres y hombres"
   ]
  },
  {
   "cell_type": "code",
   "execution_count": 41,
   "metadata": {
    "slideshow": {
     "slide_type": "fragment"
    }
   },
   "outputs": [
    {
     "data": {
      "text/plain": [
       "1.061597044858809"
      ]
     },
     "execution_count": 41,
     "metadata": {},
     "output_type": "execute_result"
    }
   ],
   "source": [
    "salario_promedio_f/salario_promedio_m"
   ]
  },
  {
   "cell_type": "code",
   "execution_count": 42,
   "metadata": {
    "slideshow": {
     "slide_type": "fragment"
    }
   },
   "outputs": [
    {
     "data": {
      "text/plain": [
       "6.1597044858809014"
      ]
     },
     "execution_count": 42,
     "metadata": {},
     "output_type": "execute_result"
    }
   ],
   "source": [
    "(salario_promedio_f/salario_promedio_m - 1)*100"
   ]
  },
  {
   "cell_type": "markdown",
   "metadata": {
    "slideshow": {
     "slide_type": "slide"
    }
   },
   "source": [
    "Sin controlar por ningun otro factor: en febrero de 2016 en la DGII, las mujeres en promedio ganaron aprox. 2601.05 DOP más que los hombres. El equivalente a un 6.16% más aprox.\n",
    "\n",
    "Esto va en la misma linea que lo sugerido por las estadisticas publicas mencionadas [aqui](http://www2.deloitte.com/do/es/pages/finance/topics/grafico-semana/mujeres-siguen-ganando-mas.html) por Deloitte.\n",
    "\n",
    "![Diferencia salarial por genero](160112-do-fas-salario-cotizable.png)"
   ]
  },
  {
   "cell_type": "markdown",
   "metadata": {
    "slideshow": {
     "slide_type": "slide"
    }
   },
   "source": [
    "### Que pasa cuando miramos los grupos que menos ganan?"
   ]
  },
  {
   "cell_type": "code",
   "execution_count": 43,
   "metadata": {
    "slideshow": {
     "slide_type": "fragment"
    }
   },
   "outputs": [
    {
     "data": {
      "text/html": [
       "<div>\n",
       "<style>\n",
       "    .dataframe thead tr:only-child th {\n",
       "        text-align: right;\n",
       "    }\n",
       "\n",
       "    .dataframe thead th {\n",
       "        text-align: left;\n",
       "    }\n",
       "\n",
       "    .dataframe tbody tr th {\n",
       "        vertical-align: top;\n",
       "    }\n",
       "</style>\n",
       "<table border=\"1\" class=\"dataframe\">\n",
       "  <thead>\n",
       "    <tr style=\"text-align: right;\">\n",
       "      <th></th>\n",
       "      <th>count</th>\n",
       "      <th>mean</th>\n",
       "      <th>std</th>\n",
       "      <th>min</th>\n",
       "      <th>25%</th>\n",
       "      <th>50%</th>\n",
       "      <th>75%</th>\n",
       "      <th>max</th>\n",
       "    </tr>\n",
       "    <tr>\n",
       "      <th>genero</th>\n",
       "      <th></th>\n",
       "      <th></th>\n",
       "      <th></th>\n",
       "      <th></th>\n",
       "      <th></th>\n",
       "      <th></th>\n",
       "      <th></th>\n",
       "      <th></th>\n",
       "    </tr>\n",
       "  </thead>\n",
       "  <tbody>\n",
       "    <tr>\n",
       "      <th>F</th>\n",
       "      <td>312.0</td>\n",
       "      <td>17443.849359</td>\n",
       "      <td>4122.426443</td>\n",
       "      <td>5679.00</td>\n",
       "      <td>12620.0</td>\n",
       "      <td>20342.0</td>\n",
       "      <td>20410.0</td>\n",
       "      <td>24343.0</td>\n",
       "    </tr>\n",
       "    <tr>\n",
       "      <th>M</th>\n",
       "      <td>383.0</td>\n",
       "      <td>18227.821514</td>\n",
       "      <td>3018.836078</td>\n",
       "      <td>5722.67</td>\n",
       "      <td>17291.0</td>\n",
       "      <td>18871.0</td>\n",
       "      <td>20410.0</td>\n",
       "      <td>24343.0</td>\n",
       "    </tr>\n",
       "  </tbody>\n",
       "</table>\n",
       "</div>"
      ],
      "text/plain": [
       "        count          mean          std      min      25%      50%      75%  \\\n",
       "genero                                                                         \n",
       "F       312.0  17443.849359  4122.426443  5679.00  12620.0  20342.0  20410.0   \n",
       "M       383.0  18227.821514  3018.836078  5722.67  17291.0  18871.0  20410.0   \n",
       "\n",
       "            max  \n",
       "genero           \n",
       "F       24343.0  \n",
       "M       24343.0  "
      ]
     },
     "execution_count": 43,
     "metadata": {},
     "output_type": "execute_result"
    }
   ],
   "source": [
    "bottom25 = feb[feb.salario <= feb.salario.quantile(.25)]\n",
    "bottom25_by_gender = bottom25.groupby(by='genero')\n",
    "bottom25_by_gender.salario.describe()"
   ]
  },
  {
   "cell_type": "code",
   "execution_count": 44,
   "metadata": {
    "slideshow": {
     "slide_type": "fragment"
    }
   },
   "outputs": [
    {
     "data": {
      "text/plain": [
       "-783.97215538595265"
      ]
     },
     "execution_count": 44,
     "metadata": {},
     "output_type": "execute_result"
    }
   ],
   "source": [
    "bottom25_by_gender.salario.mean()['F'] - bottom25_by_gender.salario.mean()['M']"
   ]
  },
  {
   "cell_type": "code",
   "execution_count": 45,
   "metadata": {
    "slideshow": {
     "slide_type": "fragment"
    }
   },
   "outputs": [
    {
     "data": {
      "text/plain": [
       "-4.3009646257964551"
      ]
     },
     "execution_count": 45,
     "metadata": {},
     "output_type": "execute_result"
    }
   ],
   "source": [
    "(bottom25_by_gender.salario.mean()['F']/bottom25_by_gender.salario.mean()['M'] - 1) * 100"
   ]
  },
  {
   "cell_type": "markdown",
   "metadata": {
    "slideshow": {
     "slide_type": "fragment"
    }
   },
   "source": [
    "En el primer cuartil de salarios la mujer promedio gano 4.30% (783.97 DOP) *menos* que el hombre promedio."
   ]
  },
  {
   "cell_type": "code",
   "execution_count": 46,
   "metadata": {
    "slideshow": {
     "slide_type": "slide"
    }
   },
   "outputs": [
    {
     "data": {
      "text/plain": [
       "<seaborn.axisgrid.FacetGrid at 0x22b9ad45f28>"
      ]
     },
     "execution_count": 46,
     "metadata": {},
     "output_type": "execute_result"
    },
    {
     "data": {
      "image/png": "[encoded data removed]",
      "text/plain": [
       "<matplotlib.figure.Figure at 0x22b9ad28d68>"
      ]
     },
     "metadata": {},
     "output_type": "display_data"
    }
   ],
   "source": [
    "sns.factorplot(data=bottom25, x='genero',y='salario',hue='genero', kind='box',size=8)"
   ]
  },
  {
   "cell_type": "markdown",
   "metadata": {
    "slideshow": {
     "slide_type": "slide"
    }
   },
   "source": [
    "### Que pasa cuando miramos los grupos que mas ganan?"
   ]
  },
  {
   "cell_type": "code",
   "execution_count": 47,
   "metadata": {
    "slideshow": {
     "slide_type": "fragment"
    }
   },
   "outputs": [
    {
     "data": {
      "text/html": [
       "<div>\n",
       "<style>\n",
       "    .dataframe thead tr:only-child th {\n",
       "        text-align: right;\n",
       "    }\n",
       "\n",
       "    .dataframe thead th {\n",
       "        text-align: left;\n",
       "    }\n",
       "\n",
       "    .dataframe tbody tr th {\n",
       "        vertical-align: top;\n",
       "    }\n",
       "</style>\n",
       "<table border=\"1\" class=\"dataframe\">\n",
       "  <thead>\n",
       "    <tr style=\"text-align: right;\">\n",
       "      <th></th>\n",
       "      <th>count</th>\n",
       "      <th>mean</th>\n",
       "      <th>std</th>\n",
       "      <th>min</th>\n",
       "      <th>25%</th>\n",
       "      <th>50%</th>\n",
       "      <th>75%</th>\n",
       "      <th>max</th>\n",
       "    </tr>\n",
       "    <tr>\n",
       "      <th>genero</th>\n",
       "      <th></th>\n",
       "      <th></th>\n",
       "      <th></th>\n",
       "      <th></th>\n",
       "      <th></th>\n",
       "      <th></th>\n",
       "      <th></th>\n",
       "      <th></th>\n",
       "    </tr>\n",
       "  </thead>\n",
       "  <tbody>\n",
       "    <tr>\n",
       "      <th>F</th>\n",
       "      <td>463.0</td>\n",
       "      <td>73666.892009</td>\n",
       "      <td>32255.190131</td>\n",
       "      <td>51556.0</td>\n",
       "      <td>55304.0</td>\n",
       "      <td>63195.0</td>\n",
       "      <td>80037.0</td>\n",
       "      <td>339730.0</td>\n",
       "    </tr>\n",
       "    <tr>\n",
       "      <th>M</th>\n",
       "      <td>289.0</td>\n",
       "      <td>80961.093426</td>\n",
       "      <td>48936.807545</td>\n",
       "      <td>51556.0</td>\n",
       "      <td>55304.0</td>\n",
       "      <td>65411.0</td>\n",
       "      <td>83154.0</td>\n",
       "      <td>559600.0</td>\n",
       "    </tr>\n",
       "  </tbody>\n",
       "</table>\n",
       "</div>"
      ],
      "text/plain": [
       "        count          mean           std      min      25%      50%      75%  \\\n",
       "genero                                                                          \n",
       "F       463.0  73666.892009  32255.190131  51556.0  55304.0  63195.0  80037.0   \n",
       "M       289.0  80961.093426  48936.807545  51556.0  55304.0  65411.0  83154.0   \n",
       "\n",
       "             max  \n",
       "genero            \n",
       "F       339730.0  \n",
       "M       559600.0  "
      ]
     },
     "execution_count": 47,
     "metadata": {},
     "output_type": "execute_result"
    }
   ],
   "source": [
    "top25 = feb[feb.salario >= feb.salario.quantile(.75)]\n",
    "top25_by_gender = top25.groupby(by='genero')\n",
    "top25_by_gender.salario.describe()"
   ]
  },
  {
   "cell_type": "code",
   "execution_count": 48,
   "metadata": {
    "slideshow": {
     "slide_type": "fragment"
    }
   },
   "outputs": [
    {
     "data": {
      "text/plain": [
       "-7294.2014169662289"
      ]
     },
     "execution_count": 48,
     "metadata": {},
     "output_type": "execute_result"
    }
   ],
   "source": [
    "top25_by_gender.salario.mean()['F'] - top25_by_gender.salario.mean()['M']"
   ]
  },
  {
   "cell_type": "code",
   "execution_count": 49,
   "metadata": {
    "slideshow": {
     "slide_type": "fragment"
    }
   },
   "outputs": [
    {
     "data": {
      "text/plain": [
       "-9.009514457297696"
      ]
     },
     "execution_count": 49,
     "metadata": {},
     "output_type": "execute_result"
    }
   ],
   "source": [
    "(top25_by_gender.salario.mean()['F']/top25_by_gender.salario.mean()['M'] - 1) * 100"
   ]
  },
  {
   "cell_type": "markdown",
   "metadata": {
    "slideshow": {
     "slide_type": "fragment"
    }
   },
   "source": [
    "En el ultimo cuartil la mujer promedio gano 9% (7294.20 DOP) menos que el hombre promedio. Pero, notan algo _extraño_?"
   ]
  },
  {
   "cell_type": "code",
   "execution_count": 70,
   "metadata": {
    "slideshow": {
     "slide_type": "slide"
    }
   },
   "outputs": [
    {
     "data": {
      "text/plain": [
       "<seaborn.axisgrid.FacetGrid at 0x22b9c3854a8>"
      ]
     },
     "execution_count": 70,
     "metadata": {},
     "output_type": "execute_result"
    },
    {
     "data": {
      "image/png": "[encoded data removed]",
      "text/plain": [
       "<matplotlib.figure.Figure at 0x22b9c0116d8>"
      ]
     },
     "metadata": {},
     "output_type": "display_data"
    }
   ],
   "source": [
    "sns.factorplot(data=top25, x='genero',y='salario',hue='genero', kind='box',size=6)"
   ]
  },
  {
   "cell_type": "markdown",
   "metadata": {
    "slideshow": {
     "slide_type": "slide"
    }
   },
   "source": [
    "### Cual es el impacto de la persona que mas gana en la diferencia?\n",
    "_Outliers o valores extremos_"
   ]
  },
  {
   "cell_type": "code",
   "execution_count": 51,
   "metadata": {
    "slideshow": {
     "slide_type": "fragment"
    }
   },
   "outputs": [
    {
     "data": {
      "text/html": [
       "<div>\n",
       "<style>\n",
       "    .dataframe thead tr:only-child th {\n",
       "        text-align: right;\n",
       "    }\n",
       "\n",
       "    .dataframe thead th {\n",
       "        text-align: left;\n",
       "    }\n",
       "\n",
       "    .dataframe tbody tr th {\n",
       "        vertical-align: top;\n",
       "    }\n",
       "</style>\n",
       "<table border=\"1\" class=\"dataframe\">\n",
       "  <thead>\n",
       "    <tr style=\"text-align: right;\">\n",
       "      <th></th>\n",
       "      <th>count</th>\n",
       "      <th>mean</th>\n",
       "      <th>std</th>\n",
       "      <th>min</th>\n",
       "      <th>25%</th>\n",
       "      <th>50%</th>\n",
       "      <th>75%</th>\n",
       "      <th>max</th>\n",
       "    </tr>\n",
       "    <tr>\n",
       "      <th>genero</th>\n",
       "      <th></th>\n",
       "      <th></th>\n",
       "      <th></th>\n",
       "      <th></th>\n",
       "      <th></th>\n",
       "      <th></th>\n",
       "      <th></th>\n",
       "      <th></th>\n",
       "    </tr>\n",
       "  </thead>\n",
       "  <tbody>\n",
       "    <tr>\n",
       "      <th>F</th>\n",
       "      <td>463.0</td>\n",
       "      <td>73666.892009</td>\n",
       "      <td>32255.190131</td>\n",
       "      <td>51556.0</td>\n",
       "      <td>55304.0</td>\n",
       "      <td>63195.0</td>\n",
       "      <td>80037.0</td>\n",
       "      <td>339730.0</td>\n",
       "    </tr>\n",
       "    <tr>\n",
       "      <th>M</th>\n",
       "      <td>288.0</td>\n",
       "      <td>79299.152778</td>\n",
       "      <td>40026.773874</td>\n",
       "      <td>51556.0</td>\n",
       "      <td>55304.0</td>\n",
       "      <td>65367.5</td>\n",
       "      <td>83154.0</td>\n",
       "      <td>339730.0</td>\n",
       "    </tr>\n",
       "  </tbody>\n",
       "</table>\n",
       "</div>"
      ],
      "text/plain": [
       "        count          mean           std      min      25%      50%      75%  \\\n",
       "genero                                                                          \n",
       "F       463.0  73666.892009  32255.190131  51556.0  55304.0  63195.0  80037.0   \n",
       "M       288.0  79299.152778  40026.773874  51556.0  55304.0  65367.5  83154.0   \n",
       "\n",
       "             max  \n",
       "genero            \n",
       "F       339730.0  \n",
       "M       339730.0  "
      ]
     },
     "execution_count": 51,
     "metadata": {},
     "output_type": "execute_result"
    }
   ],
   "source": [
    "trunc_top25 = feb[(feb.salario >= feb.salario.quantile(.75)) & (feb.salario < feb.salario.max())]\n",
    "trunc_top25_by_gender = trunc_top25.groupby(by='genero')\n",
    "trunc_top25_by_gender.salario.describe()"
   ]
  },
  {
   "cell_type": "code",
   "execution_count": 52,
   "metadata": {
    "slideshow": {
     "slide_type": "fragment"
    }
   },
   "outputs": [
    {
     "data": {
      "text/plain": [
       "-5632.2607691384765"
      ]
     },
     "execution_count": 52,
     "metadata": {},
     "output_type": "execute_result"
    }
   ],
   "source": [
    "trunc_top25_by_gender.salario.mean()['F'] - trunc_top25_by_gender.salario.mean()['M']"
   ]
  },
  {
   "cell_type": "code",
   "execution_count": 53,
   "metadata": {
    "slideshow": {
     "slide_type": "fragment"
    }
   },
   "outputs": [
    {
     "data": {
      "text/plain": [
       "-7.1025484785719133"
      ]
     },
     "execution_count": 53,
     "metadata": {},
     "output_type": "execute_result"
    }
   ],
   "source": [
    "(trunc_top25_by_gender.salario.mean()['F']/trunc_top25_by_gender.salario.mean()['M'] - 1) * 100"
   ]
  },
  {
   "cell_type": "markdown",
   "metadata": {
    "slideshow": {
     "slide_type": "fragment"
    }
   },
   "source": [
    "Ahora la diferencia se redujo a 7.10% (5,632.26 DOP) menos en salario promedio para las mujeres que los hombres.\n",
    "\n",
    "En este caso, a manera ilustrativa, consideramos que el salario más alto dista demasiado de los demás y su influencia distorsiona lo que queremos evaluar."
   ]
  },
  {
   "cell_type": "code",
   "execution_count": 71,
   "metadata": {
    "slideshow": {
     "slide_type": "slide"
    }
   },
   "outputs": [
    {
     "data": {
      "text/plain": [
       "<seaborn.axisgrid.FacetGrid at 0x22b9d1e6048>"
      ]
     },
     "execution_count": 71,
     "metadata": {},
     "output_type": "execute_result"
    },
    {
     "data": {
      "image/png": "[encoded data removed]",
      "text/plain": [
       "<matplotlib.figure.Figure at 0x22b9d276160>"
      ]
     },
     "metadata": {},
     "output_type": "display_data"
    }
   ],
   "source": [
    "sns.factorplot(data=trunc_top25, x='genero',y='salario',hue='genero', kind='box',size=6)"
   ]
  },
  {
   "cell_type": "markdown",
   "metadata": {
    "slideshow": {
     "slide_type": "slide"
    }
   },
   "source": [
    "### Profundicemos de cuartiles a deciles\n",
    "\n",
    "Veamos el comportamiento del salario promedio por genero para cada decil. Para eso necesitaremos:\n",
    "\n",
    "* importar a Numpy, solo para usar una funcion de promedio\n",
    "* crear una columna nueva que asigne cada record a un decil\n",
    "* Pivot Table! (igualito que en Excel)"
   ]
  },
  {
   "cell_type": "code",
   "execution_count": 55,
   "metadata": {
    "slideshow": {
     "slide_type": "fragment"
    }
   },
   "outputs": [
    {
     "data": {
      "text/html": [
       "<div>\n",
       "<style>\n",
       "    .dataframe thead tr:only-child th {\n",
       "        text-align: right;\n",
       "    }\n",
       "\n",
       "    .dataframe thead th {\n",
       "        text-align: left;\n",
       "    }\n",
       "\n",
       "    .dataframe tbody tr th {\n",
       "        vertical-align: top;\n",
       "    }\n",
       "</style>\n",
       "<table border=\"1\" class=\"dataframe\">\n",
       "  <thead>\n",
       "    <tr style=\"text-align: right;\">\n",
       "      <th>genero</th>\n",
       "      <th>F</th>\n",
       "      <th>M</th>\n",
       "    </tr>\n",
       "    <tr>\n",
       "      <th>salario_bin</th>\n",
       "      <th></th>\n",
       "      <th></th>\n",
       "    </tr>\n",
       "  </thead>\n",
       "  <tbody>\n",
       "    <tr>\n",
       "      <th>(5678.0, 17297.0]</th>\n",
       "      <td>12907.755725</td>\n",
       "      <td>15289.402237</td>\n",
       "    </tr>\n",
       "    <tr>\n",
       "      <th>(17297.0, 20410.0]</th>\n",
       "      <td>20099.305085</td>\n",
       "      <td>19649.266304</td>\n",
       "    </tr>\n",
       "    <tr>\n",
       "      <th>(20410.0, 28481.0]</th>\n",
       "      <td>24841.780142</td>\n",
       "      <td>24471.835106</td>\n",
       "    </tr>\n",
       "    <tr>\n",
       "      <th>(28481.0, 33211.0]</th>\n",
       "      <td>30483.116022</td>\n",
       "      <td>29991.347368</td>\n",
       "    </tr>\n",
       "    <tr>\n",
       "      <th>(33211.0, 39045.0]</th>\n",
       "      <td>35948.711538</td>\n",
       "      <td>35862.598131</td>\n",
       "    </tr>\n",
       "    <tr>\n",
       "      <th>(39045.0, 45287.0]</th>\n",
       "      <td>42669.728324</td>\n",
       "      <td>42419.706422</td>\n",
       "    </tr>\n",
       "    <tr>\n",
       "      <th>(45287.0, 50277.0]</th>\n",
       "      <td>48684.388889</td>\n",
       "      <td>48803.554217</td>\n",
       "    </tr>\n",
       "    <tr>\n",
       "      <th>(50277.0, 55304.0]</th>\n",
       "      <td>53549.025806</td>\n",
       "      <td>53348.610390</td>\n",
       "    </tr>\n",
       "    <tr>\n",
       "      <th>(55304.0, 70050.0]</th>\n",
       "      <td>64315.873418</td>\n",
       "      <td>63010.273684</td>\n",
       "    </tr>\n",
       "    <tr>\n",
       "      <th>(70050.0, 559600.0]</th>\n",
       "      <td>103253.921569</td>\n",
       "      <td>113708.863248</td>\n",
       "    </tr>\n",
       "  </tbody>\n",
       "</table>\n",
       "</div>"
      ],
      "text/plain": [
       "genero                           F              M\n",
       "salario_bin                                      \n",
       "(5678.0, 17297.0]     12907.755725   15289.402237\n",
       "(17297.0, 20410.0]    20099.305085   19649.266304\n",
       "(20410.0, 28481.0]    24841.780142   24471.835106\n",
       "(28481.0, 33211.0]    30483.116022   29991.347368\n",
       "(33211.0, 39045.0]    35948.711538   35862.598131\n",
       "(39045.0, 45287.0]    42669.728324   42419.706422\n",
       "(45287.0, 50277.0]    48684.388889   48803.554217\n",
       "(50277.0, 55304.0]    53549.025806   53348.610390\n",
       "(55304.0, 70050.0]    64315.873418   63010.273684\n",
       "(70050.0, 559600.0]  103253.921569  113708.863248"
      ]
     },
     "execution_count": 55,
     "metadata": {},
     "output_type": "execute_result"
    }
   ],
   "source": [
    "pd.set_option('mode.chained_assignment',None) # incantacion arcana que podemos ignorar por ahora\n",
    "feb['salario_bin'] = pd.qcut(feb.salario,10,precision=0)\n",
    "# guardemos esto para graficarlo mas abajo\n",
    "epg_mean = pd.pivot_table(data=feb,index=['salario_bin'],columns=['genero'],values='salario',aggfunc=np.mean)\n",
    "epg_mean"
   ]
  },
  {
   "cell_type": "markdown",
   "metadata": {
    "slideshow": {
     "slide_type": "slide"
    }
   },
   "source": [
    "### Graficamente es mas bonito\n",
    "\n",
    "Seaborn es esteticamente más agradable y suele ahorrar mucho trabajo, los gráficos de Pandas se consiguen de la manera más facil; pero a veces es necesario modificar detalles que requieren usar _matplotlib_ directamente."
   ]
  },
  {
   "cell_type": "code",
   "execution_count": 68,
   "metadata": {
    "slideshow": {
     "slide_type": "slide"
    }
   },
   "outputs": [
    {
     "data": {
      "text/plain": [
       "<matplotlib.lines.Line2D at 0x22b9cceab00>"
      ]
     },
     "execution_count": 68,
     "metadata": {},
     "output_type": "execute_result"
    },
    {
     "data": {
      "image/png": "[encoded data removed]",
      "text/plain": [
       "<matplotlib.figure.Figure at 0x22b9cc2bf28>"
      ]
     },
     "metadata": {},
     "output_type": "display_data"
    }
   ],
   "source": [
    "from matplotlib import pyplot as plt\n",
    "# Pandas nos genera el grafico inicial\n",
    "ax = epg_mean.plot(grid=True,figsize=(10,8))\n",
    "# Pero con matplotlib modificamos los nombres, las unidades y marcas de los ejes\n",
    "ax.set_xlabel('Deciles de Salario')\n",
    "ax.set_ylabel('Salario Promedio')\n",
    "ticks = ax.set_xticklabels(ax.get_xticklabels(),rotation=45)\n",
    "# Finalmente agregemos el promedio general como linea punteada para referencia\n",
    "plt.axhline(feb.salario.mean(),linestyle='dashed')"
   ]
  },
  {
   "cell_type": "markdown",
   "metadata": {
    "slideshow": {
     "slide_type": "fragment"
    }
   },
   "source": [
    "Soy yo a las líneas están superpuestas en todos los deciles excepto el primero y el último?"
   ]
  },
  {
   "cell_type": "markdown",
   "metadata": {
    "slideshow": {
     "slide_type": "slide"
    }
   },
   "source": [
    "## Mismo trabajo = mismo sueldo?\n",
    "\n",
    "Hasta ahora hemos estado mirando la nómina total, por género y por decil pero sin importar la posición.\n",
    "\n",
    "Realmente es justo comparar los salarios entre diferentes puestos?\n",
    "\n",
    "Miremos solamente los puestos que tienen _20+_ empleados y por lo menos un hombre y una mujer (otro _split-apply-combine_)"
   ]
  },
  {
   "cell_type": "code",
   "execution_count": 57,
   "metadata": {
    "slideshow": {
     "slide_type": "fragment"
    }
   },
   "outputs": [
    {
     "name": "stdout",
     "output_type": "stream",
     "text": [
      "1451\n"
     ]
    }
   ],
   "source": [
    "spg = feb.groupby(by=['puesto_clean']).filter(\\\n",
    "                                              lambda x: \\\n",
    "                                              len(x) > 19 and \\\n",
    "                                                  len(x[x.genero == 'F']) > 0 and \\\n",
    "                                                  len(x[x.genero == 'M']) > 0)\n",
    "print(spg.shape[0])"
   ]
  },
  {
   "cell_type": "markdown",
   "metadata": {
    "slideshow": {
     "slide_type": "slide"
    }
   },
   "source": [
    "### Cuales puestos quedaron?\n",
    "Y cuantos empleados hay en cada uno?"
   ]
  },
  {
   "cell_type": "code",
   "execution_count": 75,
   "metadata": {
    "slideshow": {
     "slide_type": "fragment"
    }
   },
   "outputs": [
    {
     "data": {
      "text/plain": [
       "35"
      ]
     },
     "execution_count": 75,
     "metadata": {},
     "output_type": "execute_result"
    }
   ],
   "source": [
    "spg.puesto_clean.nunique()"
   ]
  },
  {
   "cell_type": "code",
   "execution_count": 58,
   "metadata": {
    "slideshow": {
     "slide_type": "slide"
    }
   },
   "outputs": [
    {
     "data": {
      "text/plain": [
       "conserje                                            145\n",
       "oficial ctrl contrib a                               80\n",
       "auditor interno a                                    70\n",
       "tasador                                              63\n",
       "oficial ctrl contrib c                               57\n",
       "encargado unidad c                                   57\n",
       "encargado seccion                                    54\n",
       "auxiliar archivo                                     52\n",
       "auditor externo c                                    50\n",
       "auxiliar informacion y atencion al contribuyente     49\n",
       "analista                                             49\n",
       "auditor interno c                                    48\n",
       "auxiliar                                             47\n",
       "auditor externo b                                    46\n",
       "oficial de gestion de fiscalizacion                  40\n",
       "abogado b                                            36\n",
       "oficial ctrl contrib b                               35\n",
       "tec gestion servicios b                              34\n",
       "tec vehiculos motor                                  33\n",
       "mensajero interno                                    31\n",
       "encargado seccion c                                  31\n",
       "oficial de alcoholes y tabacos                       30\n",
       "encargado unidad a                                   30\n",
       "tecnico vehiculos de motor                           28\n",
       "cajero digitador                                     27\n",
       "abogado a                                            26\n",
       "auxiliar de correspondencia                          26\n",
       "auditor interno b                                    25\n",
       "tecnico                                              24\n",
       "liquidador cajero a                                  23\n",
       "encargado unidad                                     22\n",
       "oficial gestion y control contribuyentes             21\n",
       "encargado departamento c                             21\n",
       "tecnico digitalizador                                21\n",
       "digitador                                            20\n",
       "Name: puesto_clean, dtype: int64"
      ]
     },
     "execution_count": 58,
     "metadata": {},
     "output_type": "execute_result"
    }
   ],
   "source": [
    "spg.puesto_clean.value_counts()"
   ]
  },
  {
   "cell_type": "markdown",
   "metadata": {
    "slideshow": {
     "slide_type": "slide"
    }
   },
   "source": [
    "### Cómo se ve el salario en general por género de esta subpoblación?"
   ]
  },
  {
   "cell_type": "code",
   "execution_count": 59,
   "metadata": {
    "slideshow": {
     "slide_type": "fragment"
    }
   },
   "outputs": [
    {
     "data": {
      "text/html": [
       "<div>\n",
       "<style>\n",
       "    .dataframe thead tr:only-child th {\n",
       "        text-align: right;\n",
       "    }\n",
       "\n",
       "    .dataframe thead th {\n",
       "        text-align: left;\n",
       "    }\n",
       "\n",
       "    .dataframe tbody tr th {\n",
       "        vertical-align: top;\n",
       "    }\n",
       "</style>\n",
       "<table border=\"1\" class=\"dataframe\">\n",
       "  <thead>\n",
       "    <tr style=\"text-align: right;\">\n",
       "      <th></th>\n",
       "      <th>count</th>\n",
       "      <th>mean</th>\n",
       "      <th>std</th>\n",
       "      <th>min</th>\n",
       "      <th>25%</th>\n",
       "      <th>50%</th>\n",
       "      <th>75%</th>\n",
       "      <th>max</th>\n",
       "    </tr>\n",
       "    <tr>\n",
       "      <th>genero</th>\n",
       "      <th></th>\n",
       "      <th></th>\n",
       "      <th></th>\n",
       "      <th></th>\n",
       "      <th></th>\n",
       "      <th></th>\n",
       "      <th></th>\n",
       "      <th></th>\n",
       "    </tr>\n",
       "  </thead>\n",
       "  <tbody>\n",
       "    <tr>\n",
       "      <th>F</th>\n",
       "      <td>965.0</td>\n",
       "      <td>41110.240415</td>\n",
       "      <td>19763.665247</td>\n",
       "      <td>5679.0</td>\n",
       "      <td>24492.0</td>\n",
       "      <td>42333.0</td>\n",
       "      <td>50277.0</td>\n",
       "      <td>113392.0</td>\n",
       "    </tr>\n",
       "    <tr>\n",
       "      <th>M</th>\n",
       "      <td>486.0</td>\n",
       "      <td>38188.174897</td>\n",
       "      <td>19130.732739</td>\n",
       "      <td>9525.0</td>\n",
       "      <td>20410.0</td>\n",
       "      <td>37662.5</td>\n",
       "      <td>49815.0</td>\n",
       "      <td>113392.0</td>\n",
       "    </tr>\n",
       "  </tbody>\n",
       "</table>\n",
       "</div>"
      ],
      "text/plain": [
       "        count          mean           std     min      25%      50%      75%  \\\n",
       "genero                                                                         \n",
       "F       965.0  41110.240415  19763.665247  5679.0  24492.0  42333.0  50277.0   \n",
       "M       486.0  38188.174897  19130.732739  9525.0  20410.0  37662.5  49815.0   \n",
       "\n",
       "             max  \n",
       "genero            \n",
       "F       113392.0  \n",
       "M       113392.0  "
      ]
     },
     "execution_count": 59,
     "metadata": {},
     "output_type": "execute_result"
    }
   ],
   "source": [
    "spg.groupby(by='genero').salario.describe()"
   ]
  },
  {
   "cell_type": "code",
   "execution_count": 72,
   "metadata": {
    "slideshow": {
     "slide_type": "slide"
    }
   },
   "outputs": [
    {
     "data": {
      "text/plain": [
       "<seaborn.axisgrid.FacetGrid at 0x22b9ccd7b70>"
      ]
     },
     "execution_count": 72,
     "metadata": {},
     "output_type": "execute_result"
    },
    {
     "data": {
      "image/png": "[encoded data removed]",
      "text/plain": [
       "<matplotlib.figure.Figure at 0x22b9bf1eba8>"
      ]
     },
     "metadata": {},
     "output_type": "display_data"
    }
   ],
   "source": [
    "sns.factorplot(data=spg, x='genero',y='salario',hue='genero', kind='box',size=6)"
   ]
  },
  {
   "cell_type": "markdown",
   "metadata": {
    "slideshow": {
     "slide_type": "slide"
    }
   },
   "source": [
    "### Y el salario para cada puesto por género?\n",
    "\n",
    "Veamos los puestos ordenado de menor a mayor por el salario promedio de las mujeres que los ocupan."
   ]
  },
  {
   "cell_type": "code",
   "execution_count": 61,
   "metadata": {
    "slideshow": {
     "slide_type": "fragment"
    }
   },
   "outputs": [
    {
     "data": {
      "text/html": [
       "<div>\n",
       "<style>\n",
       "    .dataframe thead tr:only-child th {\n",
       "        text-align: right;\n",
       "    }\n",
       "\n",
       "    .dataframe thead th {\n",
       "        text-align: left;\n",
       "    }\n",
       "\n",
       "    .dataframe tbody tr th {\n",
       "        vertical-align: top;\n",
       "    }\n",
       "</style>\n",
       "<table border=\"1\" class=\"dataframe\">\n",
       "  <thead>\n",
       "    <tr style=\"text-align: right;\">\n",
       "      <th>genero</th>\n",
       "      <th>F</th>\n",
       "      <th>M</th>\n",
       "    </tr>\n",
       "    <tr>\n",
       "      <th>puesto_clean</th>\n",
       "      <th></th>\n",
       "      <th></th>\n",
       "    </tr>\n",
       "  </thead>\n",
       "  <tbody>\n",
       "    <tr>\n",
       "      <th>conserje</th>\n",
       "      <td>12759.649123</td>\n",
       "      <td>12601.838710</td>\n",
       "    </tr>\n",
       "    <tr>\n",
       "      <th>mensajero interno</th>\n",
       "      <td>15697.000000</td>\n",
       "      <td>16262.700000</td>\n",
       "    </tr>\n",
       "    <tr>\n",
       "      <th>auxiliar informacion y atencion al contribuyente</th>\n",
       "      <td>20218.342857</td>\n",
       "      <td>19607.214286</td>\n",
       "    </tr>\n",
       "    <tr>\n",
       "      <th>auxiliar de correspondencia</th>\n",
       "      <td>20253.076923</td>\n",
       "      <td>19258.846154</td>\n",
       "    </tr>\n",
       "    <tr>\n",
       "      <th>tecnico digitalizador</th>\n",
       "      <td>20338.250000</td>\n",
       "      <td>20445.888889</td>\n",
       "    </tr>\n",
       "    <tr>\n",
       "      <th>auxiliar archivo</th>\n",
       "      <td>20756.291667</td>\n",
       "      <td>20877.178571</td>\n",
       "    </tr>\n",
       "    <tr>\n",
       "      <th>auxiliar</th>\n",
       "      <td>21576.687500</td>\n",
       "      <td>20327.225806</td>\n",
       "    </tr>\n",
       "    <tr>\n",
       "      <th>cajero digitador</th>\n",
       "      <td>23392.058824</td>\n",
       "      <td>21373.700000</td>\n",
       "    </tr>\n",
       "    <tr>\n",
       "      <th>digitador</th>\n",
       "      <td>24268.000000</td>\n",
       "      <td>22171.142857</td>\n",
       "    </tr>\n",
       "    <tr>\n",
       "      <th>tec gestion servicios b</th>\n",
       "      <td>28726.000000</td>\n",
       "      <td>28726.000000</td>\n",
       "    </tr>\n",
       "  </tbody>\n",
       "</table>\n",
       "</div>"
      ],
      "text/plain": [
       "genero                                                       F             M\n",
       "puesto_clean                                                                \n",
       "conserje                                          12759.649123  12601.838710\n",
       "mensajero interno                                 15697.000000  16262.700000\n",
       "auxiliar informacion y atencion al contribuyente  20218.342857  19607.214286\n",
       "auxiliar de correspondencia                       20253.076923  19258.846154\n",
       "tecnico digitalizador                             20338.250000  20445.888889\n",
       "auxiliar archivo                                  20756.291667  20877.178571\n",
       "auxiliar                                          21576.687500  20327.225806\n",
       "cajero digitador                                  23392.058824  21373.700000\n",
       "digitador                                         24268.000000  22171.142857\n",
       "tec gestion servicios b                           28726.000000  28726.000000"
      ]
     },
     "execution_count": 61,
     "metadata": {},
     "output_type": "execute_result"
    }
   ],
   "source": [
    "spg_mean_pivot = pd.pivot_table(data=spg,values='salario',index=['puesto_clean'],columns=['genero'],aggfunc=np.mean)\n",
    "spg_mean_pivot.sort_values('F',inplace=True)\n",
    "spg_mean_pivot.head(10)"
   ]
  },
  {
   "cell_type": "code",
   "execution_count": 62,
   "metadata": {
    "slideshow": {
     "slide_type": "slide"
    }
   },
   "outputs": [
    {
     "data": {
      "text/plain": [
       "<matplotlib.axes._subplots.AxesSubplot at 0x22b9bab9ba8>"
      ]
     },
     "execution_count": 62,
     "metadata": {},
     "output_type": "execute_result"
    },
    {
     "data": {
      "image/png": "[encoded data removed]",
      "text/plain": [
       "<matplotlib.figure.Figure at 0x22b9a5cb278>"
      ]
     },
     "metadata": {},
     "output_type": "display_data"
    }
   ],
   "source": [
    "spg_mean_pivot.plot(kind='barh',figsize=(10,15))"
   ]
  },
  {
   "cell_type": "markdown",
   "metadata": {
    "slideshow": {
     "slide_type": "slide"
    }
   },
   "source": [
    "### Calculemos la diferencia entre los promedios de cada puesto\n",
    "\n",
    "Restandole al salario promedio de las mujeres el promedio de los hombres."
   ]
  },
  {
   "cell_type": "code",
   "execution_count": 63,
   "metadata": {
    "slideshow": {
     "slide_type": "fragment"
    }
   },
   "outputs": [
    {
     "data": {
      "text/plain": [
       "<matplotlib.axes._subplots.AxesSubplot at 0x22b9bf27710>"
      ]
     },
     "execution_count": 63,
     "metadata": {},
     "output_type": "execute_result"
    },
    {
     "data": {
      "image/png": "[encoded data removed]",
      "text/plain": [
       "<matplotlib.figure.Figure at 0x22b9bf17358>"
      ]
     },
     "metadata": {},
     "output_type": "display_data"
    }
   ],
   "source": [
    "spg_diff_pivot = spg_mean_pivot.apply(lambda x: x - x['M'], axis = 1)\n",
    "spg_diff_pivot.sort_values('F',inplace=True)\n",
    "spg_diff_pivot['F'].plot(kind='barh',figsize=(10,15))"
   ]
  },
  {
   "cell_type": "markdown",
   "metadata": {
    "slideshow": {
     "slide_type": "slide"
    }
   },
   "source": [
    "### En terminos relativos (%)?"
   ]
  },
  {
   "cell_type": "code",
   "execution_count": 64,
   "metadata": {
    "slideshow": {
     "slide_type": "fragment"
    }
   },
   "outputs": [
    {
     "data": {
      "text/plain": [
       "<matplotlib.text.Text at 0x22b9c156fd0>"
      ]
     },
     "execution_count": 64,
     "metadata": {},
     "output_type": "execute_result"
    },
    {
     "data": {
      "image/png": "[encoded data removed]",
      "text/plain": [
       "<matplotlib.figure.Figure at 0x22b9be6cc18>"
      ]
     },
     "metadata": {},
     "output_type": "display_data"
    }
   ],
   "source": [
    "spg_rel_pivot = spg_mean_pivot.apply(lambda x: (x/x['M'] - 1) * 100, axis=1)\n",
    "spg_rel_pivot['mas'] = spg_diff_pivot.F.map(lambda x: x > 0)\n",
    "spg_rel_pivot.sort_values('F',inplace=True)\n",
    "f = plt.figure(figsize=(12,12))\n",
    "ax = sns.barplot(data=spg_rel_pivot,y=spg_rel_pivot.index,x='F',hue='mas',orient='h')\n",
    "ax.set_xlabel('% diferencia promedio')"
   ]
  },
  {
   "cell_type": "code",
   "execution_count": 73,
   "metadata": {
    "slideshow": {
     "slide_type": "slide"
    }
   },
   "outputs": [
    {
     "name": "stdout",
     "output_type": "stream",
     "text": [
      "En 22 de 35 puestos el salario promedio de las mujeres es mayor que el de los hombres\n"
     ]
    }
   ],
   "source": [
    "print(\"En {:d} de {:d} puestos el salario promedio de las mujeres es mayor que el de los hombres\".format(spg_rel_pivot.mas.sum(), spg_rel_pivot.shape[0]))"
   ]
  },
  {
   "cell_type": "markdown",
   "metadata": {
    "slideshow": {
     "slide_type": "slide"
    }
   },
   "source": [
    "# Pendientes\n",
    "----\n",
    "\n",
    "* Resumen de valores en letras (letter value summary)\n",
    "* Diagrama de cuantiles (quantile plots)\n",
    "* Pruebas de hipotesis\\\n",
    "* ???\n"
   ]
  },
  {
   "cell_type": "markdown",
   "metadata": {
    "slideshow": {
     "slide_type": "slide"
    }
   },
   "source": [
    "### Resumen en letras\n",
    "\n",
    "Comparar grupos y distribuciones es complicado. Aquí no exploramos puntos como:\n",
    "\n",
    "* diferencia de tamaño de los grupos\n",
    "* valores extremos y su impacto en las medidas de centralidad y dispersión (media y desviación)\n",
    "* debilidades del resumen de 7 números y los diagramas de caja (box & whiskers)\n",
    "\n",
    "El resumen en letras se basa en la mediana de sucesivas división de los datos ordenados y resulta bastante útil para resaltar los sesgos (skew) que pueden tener los datos en una dirección u otra.\n",
    "\n",
    "![letter value summary](http://mgimond.github.io/ES218/img/letter_value_summary_b.png)\n"
   ]
  },
  {
   "cell_type": "markdown",
   "metadata": {
    "slideshow": {
     "slide_type": "slide"
    }
   },
   "source": [
    "### Diagramas de cuantiles\n",
    "\n",
    "![quantile plot](http://mgimond.github.io/ES218/img/Quantile.png)\n",
    "\n"
   ]
  },
  {
   "cell_type": "markdown",
   "metadata": {
    "slideshow": {
     "slide_type": "slide"
    }
   },
   "source": [
    "\n",
    "### Pruebas de hipotesis or _How I learned to stop worrying and love the p-value_\n",
    "\n",
    "Todo muy chulo y bonito, pero podemos inferir algo?\n",
    "\n",
    "Bueno, _si y no_.\n",
    "\n",
    "**_No_** podemos inferir nada concreto en términos generales sobre la \"brecha salarial de género\" ya que los datos que tenemos son solo de dos meses en _una_ institución. Ni con todos los trucos, artimañas y librerías del mundo podemos escapar el simple hecho de que no tenemos datos sobre la población en general.\n",
    "\n",
    "**_Si_** podemos hablar bastante sobre los salarios y la \"brecha\" en esta institución en particular hasta el momento donde tenemos datos (Ene-Feb 2016), **ya lo hemos hecho.**"
   ]
  },
  {
   "cell_type": "markdown",
   "metadata": {
    "slideshow": {
     "slide_type": "slide"
    }
   },
   "source": [
    "# GRACIAS!\n",
    "\n",
    "### Preguntas?"
   ]
  }
 ],
 "metadata": {
  "anaconda-cloud": {},
  "celltoolbar": "Slideshow",
  "kernelspec": {
   "display_name": "Python 3",
   "language": "python",
   "name": "python3"
  },
  "language_info": {
   "codemirror_mode": {
    "name": "ipython",
    "version": 3
   },
   "file_extension": ".py",
   "mimetype": "text/x-python",
   "name": "python",
   "nbconvert_exporter": "python",
   "pygments_lexer": "ipython3",
   "version": "3.6.1"
  },
  "nbpresent": {
   "slides": {
    "12dcd424-d0d5-4aa4-8699-2a59b420c8a5": {
     "id": "12dcd424-d0d5-4aa4-8699-2a59b420c8a5",
     "prev": null,
     "regions": {}
    },
    "776fa879-f08b-43c4-a213-ebd3ec6f7f02": {
     "id": "776fa879-f08b-43c4-a213-ebd3ec6f7f02",
     "prev": "f1075281-87ea-4317-ae6a-a88f1cbd2d50",
     "regions": {
      "72a742b3-2250-4c11-944f-8b7888c735b5": {
       "attrs": {
        "height": 0.8080671764882291,
        "width": 0.7651821862348178,
        "x": 0.1126855600539811,
        "y": 0.1007647323436797
       },
       "content": {
        "cell": "ec48866a-664a-4ab4-9a15-8b156e02391f",
        "part": "whole"
       },
       "id": "72a742b3-2250-4c11-944f-8b7888c735b5"
      }
     }
    },
    "af85153e-70ef-4ad4-b1ee-ca3c93bc5b34": {
     "id": "af85153e-70ef-4ad4-b1ee-ca3c93bc5b34",
     "layout": "grid",
     "prev": "c45dd279-1b17-475d-a07b-6a35201b71e1",
     "regions": {
      "78984b4d-4ed4-4fab-bf49-09658b7ae861": {
       "attrs": {
        "height": 1,
        "pad": 0.01,
        "width": 1,
        "x": 0,
        "y": 0
       },
       "content": {
        "cell": "6bf1afcf-da22-401e-9d38-06c8901f45c3",
        "part": "source"
       },
       "id": "78984b4d-4ed4-4fab-bf49-09658b7ae861"
      }
     }
    },
    "c45dd279-1b17-475d-a07b-6a35201b71e1": {
     "id": "c45dd279-1b17-475d-a07b-6a35201b71e1",
     "layout": "grid",
     "prev": "f2b6caeb-6ab9-4919-9297-b355c8e06b81",
     "regions": {
      "026e296b-bde0-4f6d-b662-408bdc3ab909": {
       "attrs": {
        "height": 0.25,
        "pad": 0.01,
        "treemap:weight": 1,
        "width": 0.6666666666666666,
        "x": 0,
        "y": 0.75
       },
       "content": {
        "cell": "d458d46b-ebd1-4a87-a7bd-64bc1ceaca83",
        "part": "whole"
       },
       "id": "026e296b-bde0-4f6d-b662-408bdc3ab909"
      },
      "1e546750-5c99-4ad1-9477-c7f7dca1e774": {
       "attrs": {
        "height": 0.5,
        "pad": 0.01,
        "treemap:weight": 1,
        "width": 0.3333333333333333,
        "x": 0.6666666666666666,
        "y": 0.5
       },
       "content": {
        "cell": "6bf1afcf-da22-401e-9d38-06c8901f45c3",
        "part": "whole"
       },
       "id": "1e546750-5c99-4ad1-9477-c7f7dca1e774"
      },
      "6aebcb96-47e4-40da-9787-2942d0e02a1d": {
       "attrs": {
        "height": 0.5,
        "pad": 0.01,
        "treemap:weight": 1,
        "width": 0.3333333333333333,
        "x": 0.3333333333333333,
        "y": 0
       },
       "id": "6aebcb96-47e4-40da-9787-2942d0e02a1d"
      },
      "80afb31a-9678-488b-97a6-cf2088cb5919": {
       "attrs": {
        "height": 0.5,
        "pad": 0.01,
        "treemap:weight": 1,
        "width": 0.3333333333333333,
        "x": 0,
        "y": 0
       },
       "id": "80afb31a-9678-488b-97a6-cf2088cb5919"
      },
      "89a985ad-65d3-410f-a4f8-5faee2301c2c": {
       "attrs": {
        "height": 0.25,
        "pad": 0.01,
        "treemap:weight": 1,
        "width": 0.6666666666666666,
        "x": 0,
        "y": 0.5
       },
       "content": {
        "cell": "fe34fe33-d5bb-4c48-9cdc-825d5df74930",
        "part": "whole"
       },
       "id": "89a985ad-65d3-410f-a4f8-5faee2301c2c"
      },
      "8c554c9f-d757-4211-8344-55f4890cba6f": {
       "attrs": {
        "height": 0.5,
        "pad": 0.01,
        "treemap:weight": 1,
        "width": 0.3333333333333333,
        "x": 0.6666666666666666,
        "y": 0
       },
       "content": {
        "cell": "58d77adf-b2fd-4109-8341-e1fc4b47498e",
        "part": "whole"
       },
       "id": "8c554c9f-d757-4211-8344-55f4890cba6f"
      }
     },
     "theme": null
    },
    "dccb9d59-ac61-4f1a-beea-487cc56212a0": {
     "id": "dccb9d59-ac61-4f1a-beea-487cc56212a0",
     "layout": "grid",
     "prev": "776fa879-f08b-43c4-a213-ebd3ec6f7f02",
     "regions": {
      "8eaf3ca1-351a-4639-80f4-67e43de40dca": {
       "attrs": {
        "height": 0.5833333333333334,
        "pad": 0.01,
        "treemap:weight": 1,
        "width": 0.75,
        "x": 0.08333333333333333,
        "y": 0.16666666666666666
       },
       "content": {
        "cell": "7c9f8ac5-994d-4e2d-9904-80ba1eae4000",
        "part": "whole"
       },
       "id": "8eaf3ca1-351a-4639-80f4-67e43de40dca"
      }
     }
    },
    "f1075281-87ea-4317-ae6a-a88f1cbd2d50": {
     "id": "f1075281-87ea-4317-ae6a-a88f1cbd2d50",
     "prev": "12dcd424-d0d5-4aa4-8699-2a59b420c8a5",
     "regions": {
      "095d452b-7b31-4faf-8af1-2cf44e83c4ee": {
       "attrs": {
        "height": 0.1702204228520019,
        "width": 0.682591093117409,
        "x": 0.10809716599190286,
        "y": 0.40589293747188476
       },
       "content": {
        "cell": "cbfe4217-ff2e-49a4-abee-c25d8132ff12",
        "part": "whole"
       },
       "id": "095d452b-7b31-4faf-8af1-2cf44e83c4ee"
      }
     }
    },
    "f2b6caeb-6ab9-4919-9297-b355c8e06b81": {
     "id": "f2b6caeb-6ab9-4919-9297-b355c8e06b81",
     "prev": "dccb9d59-ac61-4f1a-beea-487cc56212a0",
     "regions": {
      "e8156d1c-fb1b-4d7a-a360-489b2e01e6fb": {
       "attrs": {
        "height": 0.7636827110511321,
        "width": 0.8043184885290149,
        "x": 0.09986504723346828,
        "y": 0.10916179337231968
       },
       "content": {
        "cell": "428ef7e8-85a7-470d-941d-ff317e2ea35e",
        "part": "whole"
       },
       "id": "e8156d1c-fb1b-4d7a-a360-489b2e01e6fb"
      }
     }
    }
   },
   "themes": {
    "default": "28dc3acb-fe3b-4d51-b197-5bc8e6e05cf3",
    "theme": {}
   }
  }
 },
 "nbformat": 4,
 "nbformat_minor": 1
}
