{
 "cells": [
  {
   "cell_type": "markdown",
   "metadata": {
    "slideshow": {
     "slide_type": "slide"
    }
   },
   "source": [
    "### Minería de Texto: Clustering de Códigos y Tipos de Comercio\n",
    "<br/>\n",
    "<div align='center'>\n",
    "    <img src=\"../images/merchant-category-code-instabill.jpg\" width=\"640px\">\n",
    "</div>"
   ]
  },
  {
   "cell_type": "markdown",
   "metadata": {
    "slideshow": {
     "slide_type": "slide"
    }
   },
   "source": [
    "### Clustering de Códigos y Tipos de Comercio\n",
    "\n",
    "**Merchant Category Codes** (MCC) es un estandar ISO que agrupa todos los comercios que aceptan tarjetas de crédito en cerca de 1000 categorías, cada una con una breve descripción (texto!).\n",
    "\n",
    "Pero, mil tipos de comercios es un número impráctico para temas de análisis del consumo con tarjetas de crédito.\n",
    "\n",
    "Trataremos de usar _minería de texto_ para intentar reducir ese número."
   ]
  },
  {
   "cell_type": "markdown",
   "metadata": {
    "slideshow": {
     "slide_type": "slide"
    }
   },
   "source": [
    "### Clustering de Códigos y Tipos de Comercio\n",
    "\n",
    "Por claridad y brevedad, nos abstraemos del código que prepara los datos:\n",
    "\n",
    "* Carga los datos\n",
    "* Aplica RegEx al texto para limpiarlo un poco\n",
    "* Extrae los _tokens_ o _terminos_\n",
    "* Elimina _stopwords_\n",
    "* Sustituye los _terminos_ por sus respectivas _raices_ (_stemming_)"
   ]
  },
  {
   "cell_type": "code",
   "execution_count": 1,
   "metadata": {
    "slideshow": {
     "slide_type": "subslide"
    }
   },
   "outputs": [],
   "source": [
    "from prep import helpers\n",
    "from prep import clustering"
   ]
  },
  {
   "cell_type": "code",
   "execution_count": 2,
   "metadata": {
    "slideshow": {
     "slide_type": "fragment"
    }
   },
   "outputs": [],
   "source": [
    "df = helpers.get_mcc_data()"
   ]
  },
  {
   "cell_type": "code",
   "execution_count": 3,
   "metadata": {
    "slideshow": {
     "slide_type": "fragment"
    }
   },
   "outputs": [
    {
     "data": {
      "text/html": [
       "<div>\n",
       "<style scoped>\n",
       "    .dataframe tbody tr th:only-of-type {\n",
       "        vertical-align: middle;\n",
       "    }\n",
       "\n",
       "    .dataframe tbody tr th {\n",
       "        vertical-align: top;\n",
       "    }\n",
       "\n",
       "    .dataframe thead th {\n",
       "        text-align: right;\n",
       "    }\n",
       "</style>\n",
       "<table border=\"1\" class=\"dataframe\">\n",
       "  <thead>\n",
       "    <tr style=\"text-align: right;\">\n",
       "      <th></th>\n",
       "      <th>mcc</th>\n",
       "      <th>irs_description</th>\n",
       "      <th>desc</th>\n",
       "    </tr>\n",
       "  </thead>\n",
       "  <tbody>\n",
       "    <tr>\n",
       "      <th>0</th>\n",
       "      <td>742</td>\n",
       "      <td>Veterinary Services</td>\n",
       "      <td>servic veterinari</td>\n",
       "    </tr>\n",
       "    <tr>\n",
       "      <th>1</th>\n",
       "      <td>763</td>\n",
       "      <td>Agricultural Cooperative</td>\n",
       "      <td>agricultur cooper</td>\n",
       "    </tr>\n",
       "    <tr>\n",
       "      <th>2</th>\n",
       "      <td>780</td>\n",
       "      <td>Landscaping Services</td>\n",
       "      <td>landscap servic</td>\n",
       "    </tr>\n",
       "    <tr>\n",
       "      <th>3</th>\n",
       "      <td>1520</td>\n",
       "      <td>General Contractors</td>\n",
       "      <td>contractor gener</td>\n",
       "    </tr>\n",
       "    <tr>\n",
       "      <th>4</th>\n",
       "      <td>1711</td>\n",
       "      <td>Heating, Plumbing, A/C</td>\n",
       "      <td>air condit heat plumb</td>\n",
       "    </tr>\n",
       "  </tbody>\n",
       "</table>\n",
       "</div>"
      ],
      "text/plain": [
       "    mcc           irs_description                   desc\n",
       "0   742       Veterinary Services      servic veterinari\n",
       "1   763  Agricultural Cooperative      agricultur cooper\n",
       "2   780      Landscaping Services        landscap servic\n",
       "3  1520       General Contractors       contractor gener\n",
       "4  1711    Heating, Plumbing, A/C  air condit heat plumb"
      ]
     },
     "execution_count": 3,
     "metadata": {},
     "output_type": "execute_result"
    }
   ],
   "source": [
    "df.head()[['mcc', 'irs_description','desc']]"
   ]
  },
  {
   "cell_type": "markdown",
   "metadata": {
    "slideshow": {
     "slide_type": "slide"
    }
   },
   "source": [
    "### Clustering de Códigos y Tipos de Comercio\n",
    "Recuerdan esta maquinita?\n",
    "<br/>\n",
    "<div align='center'>\n",
    "    <img src=\"../images/tfidf.jpeg\" width=\"480px\">\n",
    "</div>"
   ]
  },
  {
   "cell_type": "code",
   "execution_count": 4,
   "metadata": {
    "slideshow": {
     "slide_type": "fragment"
    }
   },
   "outputs": [],
   "source": [
    "X, vectorizer = clustering.get_tfidf(df.desc)"
   ]
  },
  {
   "cell_type": "code",
   "execution_count": 5,
   "metadata": {
    "slideshow": {
     "slide_type": "fragment"
    }
   },
   "outputs": [
    {
     "name": "stdout",
     "output_type": "stream",
     "text": [
      "(981, 9)\n",
      "(981, 1081)\n"
     ]
    }
   ],
   "source": [
    "print(df.shape)\n",
    "print(X.shape)"
   ]
  },
  {
   "cell_type": "markdown",
   "metadata": {
    "slideshow": {
     "slide_type": "slide"
    }
   },
   "source": [
    "### Clustering de Códigos y Tipos de Comercio\n",
    "\n",
    "Que paso? Nuestro _super vectorizer_:\n",
    "\n",
    "* Extrae los _tokens_ o _terminos_\n",
    "* Elimina _stopwords_\n",
    "* Sustituye los _terminos_ por sus respectivas _raices_ (_stemming_)\n",
    "* Convierte cada documento en un _vector de terminos_\n",
    "* Construye una matriz (_document-term matrix_) con el TF-IDF de cada par (documento, termino)."
   ]
  },
  {
   "cell_type": "markdown",
   "metadata": {
    "slideshow": {
     "slide_type": "slide"
    }
   },
   "source": [
    "### Clustering de Códigos y Tipos de Comercio\n",
    "\n",
    "Un vistazo a la famoso _document-term matrix_:"
   ]
  },
  {
   "cell_type": "code",
   "execution_count": 6,
   "metadata": {
    "slideshow": {
     "slide_type": "fragment"
    }
   },
   "outputs": [
    {
     "data": {
      "text/plain": [
       "<1x25 sparse matrix of type '<class 'numpy.float64'>'\n",
       "\twith 2 stored elements in Compressed Sparse Row format>"
      ]
     },
     "execution_count": 6,
     "metadata": {},
     "output_type": "execute_result"
    }
   ],
   "source": [
    "X[1,:25]"
   ]
  },
  {
   "cell_type": "markdown",
   "metadata": {
    "slideshow": {
     "slide_type": "fragment"
    }
   },
   "source": [
    "Que? ...\n",
    "\n",
    "* _las descripciones usan pocas palabras por lo que la mayoría de las columnas están en 0_\n",
    "* _es más eficiente computacionalmente almacenar unicamente los valores diferentes de 0_ (ver [sparse matrix](https://en.wikipedia.org/wiki/Sparse_matrix))"
   ]
  },
  {
   "cell_type": "code",
   "execution_count": 7,
   "metadata": {
    "slideshow": {
     "slide_type": "fragment"
    }
   },
   "outputs": [
    {
     "data": {
      "text/plain": [
       "matrix([[0.        , 0.        , 0.        , 0.        , 0.        ,\n",
       "         0.        , 0.        , 0.        , 0.        , 0.        ,\n",
       "         0.        , 0.        , 0.        , 0.        , 0.        ,\n",
       "         0.        , 0.        , 0.        , 0.        , 0.        ,\n",
       "         0.        , 0.        , 0.        , 0.57735027, 0.57735027]])"
      ]
     },
     "execution_count": 7,
     "metadata": {},
     "output_type": "execute_result"
    }
   ],
   "source": [
    "X[1,:25].todense()"
   ]
  },
  {
   "cell_type": "code",
   "execution_count": 8,
   "metadata": {
    "slideshow": {
     "slide_type": "fragment"
    }
   },
   "outputs": [
    {
     "data": {
      "text/plain": [
       "['agricultur', 'agricultur cooper']"
      ]
     },
     "execution_count": 8,
     "metadata": {},
     "output_type": "execute_result"
    }
   ],
   "source": [
    "vectorizer.get_feature_names()[23:25]"
   ]
  },
  {
   "cell_type": "markdown",
   "metadata": {
    "slideshow": {
     "slide_type": "slide"
    }
   },
   "source": [
    "### Clustering de Códigos y Tipos de Comercio\n",
    "\n",
    "Hasta ahora vimos la parte de _texto_, y la parte de _minería_?"
   ]
  },
  {
   "cell_type": "markdown",
   "metadata": {
    "slideshow": {
     "slide_type": "slide"
    }
   },
   "source": [
    "### Reducción de dimensionalidad\n",
    "<div align='center'>\n",
    "    <img src=\"../images/dimensionality_reduction.png\" width=\"520px\">\n",
    "</div>"
   ]
  },
  {
   "cell_type": "markdown",
   "metadata": {
    "slideshow": {
     "slide_type": "slide"
    }
   },
   "source": [
    "### K-Means Clustering\n",
    "\n",
    "<br/>\n",
    "<div align='center'>\n",
    "    <img src=\"../images/K-means_convergence.gif\" width=\"480px\">\n",
    "</div>"
   ]
  },
  {
   "cell_type": "markdown",
   "metadata": {
    "slideshow": {
     "slide_type": "slide"
    }
   },
   "source": [
    "### Clustering de Códigos y Tipos de Comercio\n",
    "\n",
    "Que se reduce a..."
   ]
  },
  {
   "cell_type": "code",
   "execution_count": 10,
   "metadata": {
    "slideshow": {
     "slide_type": "fragment"
    }
   },
   "outputs": [
    {
     "name": "stdout",
     "output_type": "stream",
     "text": [
      "Varianza explicada con 50 dimensiones: 73%\n",
      "Metrica de calidad del clustering con 50 dimensiones y 40 clusters: 0.7037\n"
     ]
    }
   ],
   "source": [
    "# Reduce los datos a 50 dimensiones y construye 40 clusters\n",
    "clusters = clustering.get_clusters(X, k_choices=[40], dim_choices=[50])"
   ]
  },
  {
   "cell_type": "markdown",
   "metadata": {
    "slideshow": {
     "slide_type": "fragment"
    }
   },
   "source": [
    "...sencillo, no?\n",
    "\n",
    "Se puede perfectamente experimentar con otras combinaciones de **K** y **dimensiones**..."
   ]
  },
  {
   "cell_type": "markdown",
   "metadata": {
    "slideshow": {
     "slide_type": "slide"
    }
   },
   "source": [
    "### Clustering de Códigos y Tipos de Comercio\n",
    "\n",
    "Al final:\n",
    "\n",
    "* Determinamos las dimensiones más importantes de cada grupo\n",
    "* A partir de estas buscamos las palabras asociadas a dichas dimensiones para formar los topicos"
   ]
  },
  {
   "cell_type": "code",
   "execution_count": 11,
   "metadata": {
    "slideshow": {
     "slide_type": "fragment"
    }
   },
   "outputs": [
    {
     "data": {
      "text/plain": [
       "cluster_description\n",
       "agenc, detect, agenc detect, agenc car, travel                         5\n",
       "airlin, airlin carrier, air airlin, carrier, air                     300\n",
       "car rental, car, rental, agenc, agenc car                             93\n",
       "care, travel, child, associ, child servic                              9\n",
       "cash disbur, cash, disbur, autom, video                                9\n",
       "clean, laundri, specialti, clean specialti, clean mainten              5\n",
       "cloth, men, cloth men, men store, store                                4\n",
       "club, order, book, money, record                                       8\n",
       "commerci, equip, commerci equip, footwear, commerci footwear           9\n",
       "comput, softwar, comput repair, comput program, program                5\n",
       "contractor, gener, electr, contractor gener, contractor electr         5\n",
       "dealer, dealer motorcycl, motorcycl, motorcycl shop, boat              8\n",
       "direct, market, direct market, market merchant, merchant               8\n",
       "florist, air, club, line, condit                                       8\n",
       "good, digit, digit good, store, good nondur                           12\n",
       "govern, govern servic, govern lotteri, lotteri, licen                  8\n",
       "home, dealer, dealer home, home store, suit                            4\n",
       "hotel inn, inn motel, resort, motel resort, motel                    291\n",
       "insur, premium, insur premium, underwrit, premium underwrit            3\n",
       "jewelri, watch, metal, repair watch, jewelri repair                    4\n",
       "laundri, autom, fuel, dispen fuel, dispen                              9\n",
       "line, florist, recreat, crui, crui line                               11\n",
       "miscellan, gener, specialti, miscellan servic, servic                 10\n",
       "optician, eyeglass, eyeglass optician, optic optician, good optic      5\n",
       "organ, religi, organ religi, membership organ, membership              4\n",
       "park, amu, trailer, carniv, carniv park                                5\n",
       "photograph, studio, photograph studio, equip, suppli                   4\n",
       "place, restaur, drink, drink place, eat                                5\n",
       "product, pictur, petroleum, petroleum product, video                   6\n",
       "public, relat, transport, public relat, consult public                 4\n",
       "repair, repair shop, shop, electron, repair weld                       8\n",
       "sale, pool, door sale, door, telecommun                                5\n",
       "school, correspond, correspond school, secretari, busi                 5\n",
       "servic, adverti, adverti servic, servic telegraph, telegraph          28\n",
       "shop, servic shop, antiqu, auto, antiqu shop                          14\n",
       "store, accessori, automot, women, store wear                           6\n",
       "store, shoe, record store, record, shoe store                         28\n",
       "suppli, store suppli, store, home store, home                         10\n",
       "truck, part, lea, sale servic, servic                                  8\n",
       "util, medic, hospit, dental, equip                                     8\n",
       "Name: mcc, dtype: int64"
      ]
     },
     "execution_count": 11,
     "metadata": {},
     "output_type": "execute_result"
    }
   ],
   "source": [
    "rs_df = clustering.add_cluster_descriptions(df, clusters, vectorizer)\n",
    "rs_df.groupby('cluster_description').mcc.count()"
   ]
  },
  {
   "cell_type": "code",
   "execution_count": 13,
   "metadata": {
    "slideshow": {
     "slide_type": "slide"
    }
   },
   "outputs": [
    {
     "data": {
      "text/html": [
       "<div>\n",
       "<style scoped>\n",
       "    .dataframe tbody tr th:only-of-type {\n",
       "        vertical-align: middle;\n",
       "    }\n",
       "\n",
       "    .dataframe tbody tr th {\n",
       "        vertical-align: top;\n",
       "    }\n",
       "\n",
       "    .dataframe thead th {\n",
       "        text-align: right;\n",
       "    }\n",
       "</style>\n",
       "<table border=\"1\" class=\"dataframe\">\n",
       "  <thead>\n",
       "    <tr style=\"text-align: right;\">\n",
       "      <th></th>\n",
       "      <th>mcc</th>\n",
       "      <th>cluster_id</th>\n",
       "      <th>irs_description</th>\n",
       "      <th>cluster_description</th>\n",
       "    </tr>\n",
       "  </thead>\n",
       "  <tbody>\n",
       "    <tr>\n",
       "      <th>0</th>\n",
       "      <td>742</td>\n",
       "      <td>5</td>\n",
       "      <td>Veterinary Services</td>\n",
       "      <td>servic, adverti, adverti servic, servic telegr...</td>\n",
       "    </tr>\n",
       "    <tr>\n",
       "      <th>1</th>\n",
       "      <td>763</td>\n",
       "      <td>10</td>\n",
       "      <td>Agricultural Cooperative</td>\n",
       "      <td>cash disbur, cash, disbur, autom, video</td>\n",
       "    </tr>\n",
       "    <tr>\n",
       "      <th>2</th>\n",
       "      <td>780</td>\n",
       "      <td>5</td>\n",
       "      <td>Landscaping Services</td>\n",
       "      <td>servic, adverti, adverti servic, servic telegr...</td>\n",
       "    </tr>\n",
       "    <tr>\n",
       "      <th>3</th>\n",
       "      <td>1520</td>\n",
       "      <td>27</td>\n",
       "      <td>General Contractors</td>\n",
       "      <td>contractor, gener, electr, contractor gener, c...</td>\n",
       "    </tr>\n",
       "    <tr>\n",
       "      <th>4</th>\n",
       "      <td>1711</td>\n",
       "      <td>6</td>\n",
       "      <td>Heating, Plumbing, A/C</td>\n",
       "      <td>florist, air, club, line, condit</td>\n",
       "    </tr>\n",
       "    <tr>\n",
       "      <th>5</th>\n",
       "      <td>1731</td>\n",
       "      <td>27</td>\n",
       "      <td>Electrical Contractors</td>\n",
       "      <td>contractor, gener, electr, contractor gener, c...</td>\n",
       "    </tr>\n",
       "    <tr>\n",
       "      <th>6</th>\n",
       "      <td>1740</td>\n",
       "      <td>33</td>\n",
       "      <td>Masonry, Stonework, and Plaster</td>\n",
       "      <td>util, medic, hospit, dental, equip</td>\n",
       "    </tr>\n",
       "    <tr>\n",
       "      <th>7</th>\n",
       "      <td>1750</td>\n",
       "      <td>27</td>\n",
       "      <td>Carpentry Contractors</td>\n",
       "      <td>contractor, gener, electr, contractor gener, c...</td>\n",
       "    </tr>\n",
       "    <tr>\n",
       "      <th>8</th>\n",
       "      <td>1761</td>\n",
       "      <td>26</td>\n",
       "      <td>Roofing/Siding, Sheet Metal</td>\n",
       "      <td>jewelri, watch, metal, repair watch, jewelri r...</td>\n",
       "    </tr>\n",
       "    <tr>\n",
       "      <th>9</th>\n",
       "      <td>1771</td>\n",
       "      <td>27</td>\n",
       "      <td>Concrete Work Contractors</td>\n",
       "      <td>contractor, gener, electr, contractor gener, c...</td>\n",
       "    </tr>\n",
       "    <tr>\n",
       "      <th>10</th>\n",
       "      <td>1799</td>\n",
       "      <td>27</td>\n",
       "      <td>Special Trade Contractors</td>\n",
       "      <td>contractor, gener, electr, contractor gener, c...</td>\n",
       "    </tr>\n",
       "    <tr>\n",
       "      <th>11</th>\n",
       "      <td>2741</td>\n",
       "      <td>16</td>\n",
       "      <td>Miscellaneous Publishing and Printing</td>\n",
       "      <td>miscellan, gener, specialti, miscellan servic,...</td>\n",
       "    </tr>\n",
       "    <tr>\n",
       "      <th>12</th>\n",
       "      <td>2791</td>\n",
       "      <td>28</td>\n",
       "      <td>Typesetting, Plate Making, and Related Services</td>\n",
       "      <td>public, relat, transport, public relat, consul...</td>\n",
       "    </tr>\n",
       "    <tr>\n",
       "      <th>13</th>\n",
       "      <td>2842</td>\n",
       "      <td>19</td>\n",
       "      <td>Specialty Cleaning</td>\n",
       "      <td>clean, laundri, specialti, clean specialti, cl...</td>\n",
       "    </tr>\n",
       "    <tr>\n",
       "      <th>14</th>\n",
       "      <td>3000</td>\n",
       "      <td>1</td>\n",
       "      <td>Airlines</td>\n",
       "      <td>airlin, airlin carrier, air airlin, carrier, air</td>\n",
       "    </tr>\n",
       "    <tr>\n",
       "      <th>15</th>\n",
       "      <td>3001</td>\n",
       "      <td>1</td>\n",
       "      <td>Airlines</td>\n",
       "      <td>airlin, airlin carrier, air airlin, carrier, air</td>\n",
       "    </tr>\n",
       "    <tr>\n",
       "      <th>16</th>\n",
       "      <td>3002</td>\n",
       "      <td>1</td>\n",
       "      <td>Airlines</td>\n",
       "      <td>airlin, airlin carrier, air airlin, carrier, air</td>\n",
       "    </tr>\n",
       "    <tr>\n",
       "      <th>17</th>\n",
       "      <td>3003</td>\n",
       "      <td>1</td>\n",
       "      <td>Airlines</td>\n",
       "      <td>airlin, airlin carrier, air airlin, carrier, air</td>\n",
       "    </tr>\n",
       "    <tr>\n",
       "      <th>18</th>\n",
       "      <td>3004</td>\n",
       "      <td>1</td>\n",
       "      <td>Airlines</td>\n",
       "      <td>airlin, airlin carrier, air airlin, carrier, air</td>\n",
       "    </tr>\n",
       "    <tr>\n",
       "      <th>19</th>\n",
       "      <td>3005</td>\n",
       "      <td>1</td>\n",
       "      <td>Airlines</td>\n",
       "      <td>airlin, airlin carrier, air airlin, carrier, air</td>\n",
       "    </tr>\n",
       "  </tbody>\n",
       "</table>\n",
       "</div>"
      ],
      "text/plain": [
       "     mcc  cluster_id                                  irs_description  \\\n",
       "0    742           5                              Veterinary Services   \n",
       "1    763          10                         Agricultural Cooperative   \n",
       "2    780           5                             Landscaping Services   \n",
       "3   1520          27                              General Contractors   \n",
       "4   1711           6                           Heating, Plumbing, A/C   \n",
       "5   1731          27                           Electrical Contractors   \n",
       "6   1740          33                  Masonry, Stonework, and Plaster   \n",
       "7   1750          27                            Carpentry Contractors   \n",
       "8   1761          26                      Roofing/Siding, Sheet Metal   \n",
       "9   1771          27                        Concrete Work Contractors   \n",
       "10  1799          27                        Special Trade Contractors   \n",
       "11  2741          16            Miscellaneous Publishing and Printing   \n",
       "12  2791          28  Typesetting, Plate Making, and Related Services   \n",
       "13  2842          19                               Specialty Cleaning   \n",
       "14  3000           1                                         Airlines   \n",
       "15  3001           1                                         Airlines   \n",
       "16  3002           1                                         Airlines   \n",
       "17  3003           1                                         Airlines   \n",
       "18  3004           1                                         Airlines   \n",
       "19  3005           1                                         Airlines   \n",
       "\n",
       "                                  cluster_description  \n",
       "0   servic, adverti, adverti servic, servic telegr...  \n",
       "1             cash disbur, cash, disbur, autom, video  \n",
       "2   servic, adverti, adverti servic, servic telegr...  \n",
       "3   contractor, gener, electr, contractor gener, c...  \n",
       "4                    florist, air, club, line, condit  \n",
       "5   contractor, gener, electr, contractor gener, c...  \n",
       "6                  util, medic, hospit, dental, equip  \n",
       "7   contractor, gener, electr, contractor gener, c...  \n",
       "8   jewelri, watch, metal, repair watch, jewelri r...  \n",
       "9   contractor, gener, electr, contractor gener, c...  \n",
       "10  contractor, gener, electr, contractor gener, c...  \n",
       "11  miscellan, gener, specialti, miscellan servic,...  \n",
       "12  public, relat, transport, public relat, consul...  \n",
       "13  clean, laundri, specialti, clean specialti, cl...  \n",
       "14   airlin, airlin carrier, air airlin, carrier, air  \n",
       "15   airlin, airlin carrier, air airlin, carrier, air  \n",
       "16   airlin, airlin carrier, air airlin, carrier, air  \n",
       "17   airlin, airlin carrier, air airlin, carrier, air  \n",
       "18   airlin, airlin carrier, air airlin, carrier, air  \n",
       "19   airlin, airlin carrier, air airlin, carrier, air  "
      ]
     },
     "execution_count": 13,
     "metadata": {},
     "output_type": "execute_result"
    }
   ],
   "source": [
    "rs_df.head(20)[['mcc', 'cluster_id', 'irs_description', 'cluster_description']]"
   ]
  },
  {
   "cell_type": "markdown",
   "metadata": {
    "slideshow": {
     "slide_type": "slide"
    }
   },
   "source": [
    "<div align=\"center\">\n",
    "    <h1>Gracias!</h1>\n",
    "</div>"
   ]
  }
 ],
 "metadata": {
  "celltoolbar": "Slideshow",
  "kernelspec": {
   "display_name": "Python 3",
   "language": "python",
   "name": "python3"
  },
  "language_info": {
   "codemirror_mode": {
    "name": "ipython",
    "version": 3
   },
   "file_extension": ".py",
   "mimetype": "text/x-python",
   "name": "python",
   "nbconvert_exporter": "python",
   "pygments_lexer": "ipython3",
   "version": "3.6.3"
  },
  "livereveal": {
   "scroll": true
  }
 },
 "nbformat": 4,
 "nbformat_minor": 2
}
