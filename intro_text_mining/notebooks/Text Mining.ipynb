{
 "cells": [
  {
   "cell_type": "code",
   "execution_count": 1,
   "metadata": {
    "slideshow": {
     "slide_type": "skip"
    }
   },
   "outputs": [],
   "source": [
    "import re\n",
    "import nltk\n",
    "from prep import helpers"
   ]
  },
  {
   "cell_type": "markdown",
   "metadata": {
    "slideshow": {
     "slide_type": "slide"
    }
   },
   "source": [
    "# Mineria de Texto\n",
    "\n",
    "##  *Una brevísima introducción*"
   ]
  },
  {
   "cell_type": "markdown",
   "metadata": {
    "slideshow": {
     "slide_type": "slide"
    }
   },
   "source": [
    "## Minería de Texto: una brevísima introducción\n",
    "\n",
    "* Qué es?\n",
    "* Y qué se hace con eso?\n",
    "* Qué no es?\n",
    "* Más o menos, cómo funciona?\n"
   ]
  },
  {
   "cell_type": "markdown",
   "metadata": {
    "slideshow": {
     "slide_type": "slide"
    }
   },
   "source": [
    "## Minería de Texto: una brevísima introducción\n",
    "\n",
    "* Temás prácticos:\n",
    " * Fuentes de texto\n",
    " * Datos estructurados, semi-estructurados y no estructurados\n",
    " * Mojibake!\n",
    " * RegEx: Cómo resolver un problema con _otro_ problema"
   ]
  },
  {
   "cell_type": "markdown",
   "metadata": {
    "slideshow": {
     "slide_type": "slide"
    }
   },
   "source": [
    "## Minería de Texto: una brevísima introducción\n",
    "\n",
    "* Conceptos fundamentales\n",
    "* Representación del texto para análisis\n",
    " * bag of words\n",
    " * tf-idf\n",
    "* Similaridad entre documentos\n"
   ]
  },
  {
   "cell_type": "markdown",
   "metadata": {
    "slideshow": {
     "slide_type": "slide"
    }
   },
   "source": [
    "### Qué es _Minería de Texto_?\n",
    "\n",
    "<br/><center><b>Destilar conocimiento a partir del texto</b></center>\n",
    "\n",
    "Desde el punto de vista de el analisis de datos, **el texto es un desorden.** Las técnicas de analisis desde la más sencilla hasta la más avanzada esperan trabajar con datos de entrada con formato _bien definido y fijo_.\n",
    "\n",
    "La **minería de texto** es la colección de métodos, algoritmos y prácticas utilizadas para ordenar este desorden y poder realizar análisis sobre grandes cuerpos de texto."
   ]
  },
  {
   "cell_type": "markdown",
   "metadata": {
    "slideshow": {
     "slide_type": "subslide"
    }
   },
   "source": [
    "### Y qué se hace con eso?\n",
    "\n",
    "* Búsqueda (Information Retrieval)\n",
    "* Clasificación de texto (SPAM! SPAM!)\n",
    "* Modelado de tópicos (temas)\n",
    "* Clustering\n",
    "* Analisis de sentimiento\n",
    "* etc... etc... etc..."
   ]
  },
  {
   "cell_type": "markdown",
   "metadata": {
    "slideshow": {
     "slide_type": "subslide"
    }
   },
   "source": [
    "### Qué *no* es _Minería de Texto_?\n",
    "\n",
    "**Procesamiento de Lenguaje Natural** o *Natural Language Processing* es un área de las ciencas computacionales que se ocupa de la interacción entre las computadoras y el lenguaje humano (natural).\n",
    "\n",
    "*Text Mining* depende de muchas de las herramientas de *NLP*, de hecho en los ejemplos estaremos usando la librería [*NLTK - Natural Language ToolKit*](http://www.nltk.org/). Dos ejemplos famosos de NLP son: _chatbots y Siri_"
   ]
  },
  {
   "cell_type": "markdown",
   "metadata": {
    "slideshow": {
     "slide_type": "slide"
    }
   },
   "source": [
    "### Más o menos, cómo funciona?\n",
    "<div align='center'>\n",
    "    <img src=\"../images/text_mining_workflow.png\" width=\"640px\"/>\n",
    "</div>"
   ]
  },
  {
   "cell_type": "markdown",
   "metadata": {
    "slideshow": {
     "slide_type": "slide"
    }
   },
   "source": [
    "### Temas prácticos - Fuentes de texto\n",
    "\n",
    "* Redes sociales (tweets, posts)\n",
    "* Articulos, libros, periódicos\n",
    "* Bases de datos\n",
    "* ..."
   ]
  },
  {
   "cell_type": "markdown",
   "metadata": {
    "slideshow": {
     "slide_type": "slide"
    }
   },
   "source": [
    "### Temas Prácticos - Tipos de datos como fuentes de texto\n",
    "<br/>\n",
    "<div align='center'>\n",
    "    <img src=\"../images/semi_un_structured_data.png\" width=\"640px\"/>\n",
    "</div>"
   ]
  },
  {
   "cell_type": "markdown",
   "metadata": {
    "slideshow": {
     "slide_type": "slide"
    }
   },
   "source": [
    "### Temas Prácticos - Codificación de caracteres (encodings, encodings)\n",
    "\n",
    "La codificación de caracteres determina cómo se convierten los bits en caracteres legibles y viceversa.\n",
    "<div align='center'>\n",
    "    <img src=\"../images/encoding.png\" width=\"640px\"/>\n",
    "</div>\n",
    "Se hace vital conocer la codificación usada durante la creación de un documento para poder incluirlo en un proceso de _minería de texto_.\n",
    "\n",
    "Lamentablemente, no siempre se sabe esto. Pero, se puede _adivinar_ con mucho exito y se puede convertir de una codificación a otra."
   ]
  },
  {
   "cell_type": "markdown",
   "metadata": {
    "slideshow": {
     "slide_type": "slide"
    }
   },
   "source": [
    "### Temas Prácticos - Mojibakeeeee???\n",
    "\n",
    "<br/>\n",
    "<div align='center'>\n",
    "    <img src=\"../images/mojibake1.gif\" width=\"640px\"/>\n",
    "</div>"
   ]
  },
  {
   "cell_type": "markdown",
   "metadata": {
    "slideshow": {
     "slide_type": "fragment"
    }
   },
   "source": [
    "<br/>\n",
    "<div align='center'>\n",
    "    <img src=\"../images/mojibake2.gif\" width=\"640px\"/>\n",
    "</div>"
   ]
  },
  {
   "cell_type": "markdown",
   "metadata": {
    "slideshow": {
     "slide_type": "slide"
    }
   },
   "source": [
    "Esto le puede pasar a usted si procesa texto con la codificación de caracteres (_character encoding_) equivocada:\n"
   ]
  },
  {
   "cell_type": "markdown",
   "metadata": {
    "slideshow": {
     "slide_type": "subslide"
    }
   },
   "source": [
    "<br/>\n",
    "<div align='center'>\n",
    "    <img src=\"../images/Mojibakevector.png\" width=\"800px\"/>\n",
    "</div>"
   ]
  },
  {
   "cell_type": "markdown",
   "metadata": {
    "slideshow": {
     "slide_type": "subslide"
    }
   },
   "source": [
    "### Cómo salgo de un lío mojibake?\n",
    "\n",
    "StackOverflow al rescate:\n",
    "https://stackoverflow.com/questions/64860/best-way-to-convert-text-files-between-character-sets. En resumen: herramientas de línea de comando (*nix y Windows)\n",
    "\n",
    "También su librería de R/Python para la manipulación de datos (tidyverse/Pandas) le permite especificar la codificación tanto de lectura como de escritura.\n",
    "\n",
    "Si algún día se ve en la necesidad de _adivinar_, empiece por aquí:\n",
    "https://readr.tidyverse.org/reference/encoding.html"
   ]
  },
  {
   "cell_type": "markdown",
   "metadata": {
    "slideshow": {
     "slide_type": "slide"
    }
   },
   "source": [
    "### Temas Prácticos - RegEx\n",
    "#### Cómo resolver un problema con [_otro_](http://regex.info/blog/2006-09-15/247) problema\n",
    "\n",
    "En esencia las expresiones regulares permiten:\n",
    "* Encontrar instancias de un término\n",
    "* ...Aún cuando este escrito de formas ligeramente diferentes cada vez\n",
    "* Convertirlo en otra cosa\n",
    "* Convertir frases enteras en otras\n",
    "* Hacer cambios a un documento de una sola vez\n",
    "* ... lograr que estos cambios sean consistente y repetibles a otros documentos\n"
   ]
  },
  {
   "cell_type": "markdown",
   "metadata": {
    "slideshow": {
     "slide_type": "slide"
    }
   },
   "source": [
    "### Temas Prácticos - RegEx: Ejemplo"
   ]
  },
  {
   "cell_type": "code",
   "execution_count": 2,
   "metadata": {
    "slideshow": {
     "slide_type": "fragment"
    }
   },
   "outputs": [
    {
     "name": "stdout",
     "output_type": "stream",
     "text": [
      "some people when confronted with a problem think i know i ll use regular expressions now they have two problems jamie zawinsk o fue\n"
     ]
    }
   ],
   "source": [
    "# Funcion para quitar todo el texto que este entre parentesis, \n",
    "# lo que no sea letras y sustituir series de espacios en blanco por uno solo\n",
    "def cleanup_str(raw):\n",
    "    rs = re.sub(\"\\\\(.*?\\\\)|[^a-zA-Z\\\\s]\",\" \",raw)\n",
    "    rs = re.sub(\"\\\\s+\",\" \",rs).strip().lower()\n",
    "    return rs\n",
    "\n",
    "my_str = \"\"\"\n",
    "Some people, when confronted with a problem, think \n",
    "“I know, I'll use regular expressions.”   Now they have two problems.\n",
    "    -- Jamie Zawinsk (Usenet) 1997   o fue 1999??\n",
    "\"\"\"\n",
    "\n",
    "print(cleanup_str(my_str))"
   ]
  },
  {
   "cell_type": "markdown",
   "metadata": {
    "slideshow": {
     "slide_type": "subslide"
    }
   },
   "source": [
    "Visite https://regexr.com/ para aprender y practicar. Pero, recuerde:\n",
    "\n",
    "Las expresiones regulares son una herramienta extremadamente poderosa, **uselas con moderación y cuidado**"
   ]
  },
  {
   "cell_type": "markdown",
   "metadata": {
    "slideshow": {
     "slide_type": "slide"
    }
   },
   "source": [
    "### Conceptos Fundamentales de _Mineria de Texto_\n",
    "<br/>\n",
    "<dl>\n",
    "  <dt>Documento</dt>\n",
    "  <dd>Unidad mínima de texto sobre la cual se quiere realizar analisis, inferencias y responder preguntas</dd>\n",
    "\n",
    "  <dt>Corpus</dt>\n",
    "  <dd>Conjunto de documentos que será minado (piense _training data_)</dd>\n",
    "</dl>\n"
   ]
  },
  {
   "cell_type": "markdown",
   "metadata": {
    "slideshow": {
     "slide_type": "subslide"
    }
   },
   "source": [
    "### Conceptos Fundamentales de _Mineria de Texto_\n",
    "<br/>\n",
    "<dl>\n",
    "  <dt>Token</dt>\n",
    "  <dd>Serie de caracteres de texto con significado propio, resultante de dividir un documento por un _separador_: tipicamente palabras.</dd>\n",
    "\n",
    "  <dt>Separador</dt>\n",
    "  <dd>Serie de caraceteres utilizadas para dividir un documento en _tokens_: tipicamente _whitespace_ ( )</dd>\n",
    "</dl>"
   ]
  },
  {
   "cell_type": "code",
   "execution_count": 3,
   "metadata": {
    "slideshow": {
     "slide_type": "subslide"
    }
   },
   "outputs": [
    {
     "data": {
      "text/plain": [
       "['conceptos', 'fundamentales', 'de', 'mineria', 'de', 'texto']"
      ]
     },
     "execution_count": 3,
     "metadata": {},
     "output_type": "execute_result"
    }
   ],
   "source": [
    "nltk.word_tokenize(\"conceptos fundamentales de mineria de texto\")"
   ]
  },
  {
   "cell_type": "markdown",
   "metadata": {
    "slideshow": {
     "slide_type": "subslide"
    }
   },
   "source": [
    "### Conceptos Fundamentales de _Mineria de Texto_\n",
    "<br/>\n",
    "<dl>\n",
    "  <dt>Vocabulario</dt>\n",
    "  <dd>Conjunto de todos los tokens presentes en un _corpus_</dd>\n",
    "  \n",
    "  <dt>n-gram</dt>\n",
    "  <dd>Secuencia continua de una o más partes de un documento, tipicamente tokens</dd>\n",
    "</dl>"
   ]
  },
  {
   "cell_type": "code",
   "execution_count": 4,
   "metadata": {
    "slideshow": {
     "slide_type": "fragment"
    }
   },
   "outputs": [
    {
     "data": {
      "text/plain": [
       "['conceptos fundamentales',\n",
       " 'fundamentales de',\n",
       " 'de mineria',\n",
       " 'mineria de',\n",
       " 'de texto']"
      ]
     },
     "execution_count": 4,
     "metadata": {},
     "output_type": "execute_result"
    }
   ],
   "source": [
    "helpers.get_bigrams(nltk.word_tokenize(\"conceptos fundamentales de mineria de texto\"))"
   ]
  },
  {
   "cell_type": "markdown",
   "metadata": {
    "slideshow": {
     "slide_type": "subslide"
    }
   },
   "source": [
    "### Conceptos Fundamentales de _Mineria de Texto_\n",
    "<br/>\n",
    "<dl>\n",
    "  <dt>Stopwords</dt>\n",
    "  <dd>Palabras en un idioma particular que pueden eliminarse de los documentos durante preprocesamiento (palabras muy comunes, preposiciones, etc.)</dd>\n",
    "  \n",
    "  <dt>Stemming</dt>\n",
    "  <dd>Proceso de extracción y sustitución de palabras por su _\"raíz\"_</dd>\n",
    "</dl>"
   ]
  },
  {
   "cell_type": "code",
   "execution_count": 5,
   "metadata": {
    "slideshow": {
     "slide_type": "subslide"
    }
   },
   "outputs": [
    {
     "data": {
      "text/plain": [
       "'This stopword'"
      ]
     },
     "execution_count": 5,
     "metadata": {},
     "output_type": "execute_result"
    }
   ],
   "source": [
    "helpers.remove_stopwords(\"This is not the stopword\")"
   ]
  },
  {
   "cell_type": "code",
   "execution_count": 6,
   "metadata": {
    "slideshow": {
     "slide_type": "subslide"
    }
   },
   "outputs": [
    {
     "data": {
      "text/plain": [
       "'natur languag process and text mine'"
      ]
     },
     "execution_count": 6,
     "metadata": {},
     "output_type": "execute_result"
    }
   ],
   "source": [
    "helpers.stem(\"natural language processing and text mining\")"
   ]
  },
  {
   "cell_type": "markdown",
   "metadata": {
    "slideshow": {
     "slide_type": "slide"
    }
   },
   "source": [
    "### Representación de datos de texto\n",
    "\n",
    "<br/>\n",
    "<div align='center'>\n",
    "    <img src=\"../images/bagofwords.002.jpeg\" width=\"640px\">\n",
    "</div>"
   ]
  },
  {
   "cell_type": "markdown",
   "metadata": {
    "slideshow": {
     "slide_type": "subslide"
    }
   },
   "source": [
    "<div align='center'>\n",
    "    <img src=\"../images/bagofwords.003.jpeg\" width=\"640px\">\n",
    "</div>"
   ]
  },
  {
   "cell_type": "markdown",
   "metadata": {
    "slideshow": {
     "slide_type": "subslide"
    }
   },
   "source": [
    "<div align='center'>\n",
    "    <img src=\"../images/bagofwords.004.jpeg\" width=\"640px\">\n",
    "</div>"
   ]
  },
  {
   "cell_type": "markdown",
   "metadata": {
    "slideshow": {
     "slide_type": "slide"
    }
   },
   "source": [
    "### Representación de datos de Texto\n",
    "\n",
    "<br/>\n",
    "<div align='center'>\n",
    "    <img src=\"../images/tfidf.jpeg\" width=\"640px\">\n",
    "</div>"
   ]
  },
  {
   "cell_type": "markdown",
   "metadata": {
    "slideshow": {
     "slide_type": "subslide"
    }
   },
   "source": [
    "<div align='center'>\n",
    "    <img src=\"../images/tfidf02.jpeg\" width=\"640px\">\n",
    "</div>"
   ]
  },
  {
   "cell_type": "markdown",
   "metadata": {
    "slideshow": {
     "slide_type": "slide"
    }
   },
   "source": [
    "### Representación de datos de Texto\n",
    "\n",
    "<br/>\n",
    "<dl>\n",
    "  <dt>Term Frequency (TF)</dt>\n",
    "  <dd>Estadistica que representa lo común que es un término dentro de un documento en particular. La versión más simple es un conteo de las repeticiones del termino.</dd>\n",
    "  \n",
    "  <dt>Inverse Document Frequency (IDF)</dt>\n",
    "  <dd>Estadistica que captura lo _raro_ que es un termino dentro de un corpus. Es grande para palabras que ocurren poco y pequeño para palabras muy comunes.</dd>\n",
    "</dl>"
   ]
  },
  {
   "cell_type": "markdown",
   "metadata": {
    "slideshow": {
     "slide_type": "subslide"
    }
   },
   "source": [
    "La formula más comun de TF-IDF:\n",
    "\n",
    "$$tfidf(t,d,D) = f_{t,d} * \\log \\frac{N}{n_t}$$\n",
    "\n",
    "donde:\n",
    "\n",
    "$t =$ termino, token o palabra\n",
    "\n",
    "$d =$ documento\n",
    "\n",
    "$f_{t,d} =$ _term frequency_ del termino *t* en el documento *d*\n",
    "\n",
    "$D =$ corpus\n",
    "\n",
    "$N =$ cantidad de documentos (tamaño del corpus)\n",
    "\n",
    "$n_t =$ cantidad de documentos donde aparece el termino $t$"
   ]
  },
  {
   "cell_type": "markdown",
   "metadata": {
    "slideshow": {
     "slide_type": "subslide"
    }
   },
   "source": [
    "Con tan solo convertir un _corpus_ a una de estas dos representaciones se pueden responder preguntas interesantes, como:\n",
    "    \n",
    "* Cuales son las palabras mas frecuentes?\n",
    "* Cuales son las palabras mas raras?\n",
    "* Cuales son los documentos con más palabras distintas?\n",
    "\n",
    "Se les ocurren otras?"
   ]
  },
  {
   "cell_type": "markdown",
   "metadata": {
    "slideshow": {
     "slide_type": "subslide"
    }
   },
   "source": [
    "### Comparación de documentos\n",
    "\n",
    "Habiendolos representado como vectores (BoW o TF-IDF) podemos compararlos directamente en relación de los terminos que los componen con una [_simple_ distancia entre dos vectores](https://en.wikipedia.org/wiki/Cosine_similarity):\n",
    "<div align='center'>\n",
    "    <img src=\"../images/cosine_similarity.png\" width=\"360px\">\n",
    "</div>"
   ]
  },
  {
   "cell_type": "markdown",
   "metadata": {
    "slideshow": {
     "slide_type": "fragment"
    }
   },
   "source": [
    "$$similaridad = \\cos(\\theta) = \\frac{\\sum_i^N A_i B_i}{\\sum_i^N A_i^2 \\sum B_i^2}$$"
   ]
  },
  {
   "cell_type": "markdown",
   "metadata": {
    "slideshow": {
     "slide_type": "subslide"
    }
   },
   "source": [
    "Con lo descrito hasta ahora tenemos los elementos necesarios para un buscador rudimentario:\n",
    "\n",
    "1. los documentos ya son vectores comparables\n",
    "2. podemos convertir un nuevo documento a un vector (un \"query\" de búsqueda por ejemplo)\n",
    "3. sencillamente buscar en el corpus los documentos que más se parezcan (que tengan la similaridad más alta)\n",
    "4. ...\n",
    "5. **Google-Killer!**"
   ]
  }
 ],
 "metadata": {
  "celltoolbar": "Slideshow",
  "kernelspec": {
   "display_name": "Python 3",
   "language": "python",
   "name": "python3"
  },
  "language_info": {
   "codemirror_mode": {
    "name": "ipython",
    "version": 3
   },
   "file_extension": ".py",
   "mimetype": "text/x-python",
   "name": "python",
   "nbconvert_exporter": "python",
   "pygments_lexer": "ipython3",
   "version": "3.6.3"
  },
  "livereveal": {
   "scroll": true
  }
 },
 "nbformat": 4,
 "nbformat_minor": 2
}
